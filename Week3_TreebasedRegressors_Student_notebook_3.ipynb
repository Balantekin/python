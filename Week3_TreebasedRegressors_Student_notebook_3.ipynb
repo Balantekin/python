{
  "nbformat": 4,
  "nbformat_minor": 0,
  "metadata": {
    "kernelspec": {
      "display_name": "Python 3",
      "language": "python",
      "name": "python3"
    },
    "language_info": {
      "codemirror_mode": {
        "name": "ipython",
        "version": 3
      },
      "file_extension": ".py",
      "mimetype": "text/x-python",
      "name": "python",
      "nbconvert_exporter": "python",
      "pygments_lexer": "ipython3",
      "version": "3.7.7"
    },
    "colab": {
      "provenance": [],
      "include_colab_link": true
    }
  },
  "cells": [
    {
      "cell_type": "markdown",
      "metadata": {
        "id": "view-in-github",
        "colab_type": "text"
      },
      "source": [
        "<a href=\"https://colab.research.google.com/github/Balantekin/python/blob/main/Week3_TreebasedRegressors_Student_notebook_3.ipynb\" target=\"_parent\"><img src=\"https://colab.research.google.com/assets/colab-badge.svg\" alt=\"Open In Colab\"/></a>"
      ]
    },
    {
      "cell_type": "markdown",
      "metadata": {
        "id": "Fd3N3hNS56Ne"
      },
      "source": [
        "# <font color='red'>Model Building And Validation</font>\n",
        "## <font color='blue'>Session-3 Decision Tree Regressor and LGBM Regressor Examples</font>\n",
        "### <font color='blue'>Part-1 Preperations</font>\n",
        "\n",
        "### We will continue to use London bike rental data for today's regression tasks.\n",
        "\n",
        "### Our goal is to build tree based models and compare them with the linear regression model we've built before."
      ]
    },
    {
      "cell_type": "code",
      "metadata": {
        "id": "zLvXB1KH56Ni"
      },
      "source": [
        "import numpy as np\n",
        "import pandas as pd\n",
        "\n",
        "from sklearn import linear_model\n",
        "from sklearn.metrics import mean_squared_error, r2_score, mean_absolute_error, explained_variance_score\n",
        "from sklearn.model_selection import train_test_split\n",
        "\n",
        "import matplotlib.pyplot as plt\n",
        "import seaborn as sns\n",
        "import random\n",
        "\n",
        "import lightgbm as lgb\n",
        "from sklearn.model_selection import cross_val_score, cross_val_predict\n",
        "from sklearn.metrics import mean_squared_log_error\n",
        "from sklearn import metrics\n",
        "\n",
        "from sklearn.tree import DecisionTreeRegressor\n",
        "from sklearn.metrics import r2_score\n",
        "from sklearn.model_selection import KFold, ShuffleSplit, RepeatedKFold, TimeSeriesSplit, GridSearchCV, RandomizedSearchCV\n",
        "\n",
        "import warnings\n",
        "warnings.filterwarnings(\"ignore\")\n",
        "\n"
      ],
      "execution_count": null,
      "outputs": []
    },
    {
      "cell_type": "code",
      "metadata": {
        "id": "Mub78H5P56Nj"
      },
      "source": [
        "def log_transform(s, reverse=False):\n",
        "    if reverse:\n",
        "        return np.exp(s)-1\n",
        "    else:\n",
        "        return np.log(s+1)\n",
        "\n",
        "\n",
        "def ansc_transform(s, reverse=False):\n",
        "    if reverse:\n",
        "        return ((s/2)**2)-0.375\n",
        "    else:\n",
        "        return np.sqrt(s+0.375)*2\n",
        "\n",
        "\n",
        "def no_transform(s, reverse=False):\n",
        "    return s\n",
        "\n",
        "\n",
        "def frmn_transform(s, reverse=False):\n",
        "    if reverse:\n",
        "        return (s/2)**2\n",
        "    else:\n",
        "        return np.sqrt(s+1)+np.sqrt(s)\n",
        "\n",
        "\n",
        "transforms = {'none':no_transform, 'log': log_transform, 'anscombe': ansc_transform, 'freeman': frmn_transform}\n",
        "\n",
        "def transform_target(df, method):\n",
        "    target = 'target_'+method\n",
        "    df[target] = transforms[method](df['cnt'])\n",
        "    return df, target\n",
        "\n",
        "\n",
        "def add_commute(df, features, ordinal=False):\n",
        "    if not ordinal:\n",
        "        df['commute'] = (df['is_weekend']==0) & df['timeofday'].isin([7,8,9,17,18])\n",
        "        features.append('commute')\n",
        "    else:\n",
        "        df['commute'] = 0\n",
        "        df.loc[((df['is_weekend']==0) & df['timeofday'].isin([7,9,16,19])),'commute'] = 1\n",
        "        df.loc[((df['is_weekend']==0) & df['timeofday'].isin([17,18])),'commute'] = 2\n",
        "        df.loc[((df['is_weekend']==0) & df['timeofday'].isin([8])),'commute'] = 3\n",
        "\n",
        "    features.append('commute')\n",
        "    return df, features\n",
        "\n",
        "\n",
        "\n",
        "def add_sleeptime(df, features):\n",
        "    df['sleeptime'] = (df['timeofday'].isin([0,1,2,3,4,5,23]))\n",
        "    features.append('sleeptime')\n",
        "    return df, features\n",
        "\n",
        "\n",
        "\n",
        "def encode_timeofday(source, dataframes, features):\n",
        "    print('target mean encoding;')\n",
        "    for df in dataframes:\n",
        "        df['tmc_tod'] = 0\n",
        "    for tod in range(24):\n",
        "        val = source.loc[source['timeofday']==tod, 'cnt'].mean()\n",
        "        for df in dataframes:\n",
        "            df.loc[df['timeofday']==tod, 'tmc_tod'] = val\n",
        "    features.remove('timeofday')\n",
        "    features.append('tmc_tod')\n",
        "    return dataframes, features\n",
        "\n",
        "\n",
        "\n",
        "def eliminate_outliers(df):\n",
        "    df['outlier'] = 0\n",
        "    df.loc[df['cnt']>5600,'outlier'] = 1\n",
        "    df.iloc[8382:8720].outlier = 1\n",
        "    df = df[df['outlier']==0]\n",
        "    df.reset_index(drop=True,inplace=True)\n",
        "    return df\n",
        "\n",
        "\n",
        "def split_oot(df, ratio):\n",
        "    L = len(df)\n",
        "    split_index = int(L*ratio)\n",
        "    train = df.iloc[:split_index]\n",
        "    test = df.iloc[split_index:]\n",
        "    print(train.shape, test.shape)\n",
        "    return train, test\n",
        "\n",
        "def split_oos(df, ratio):\n",
        "    return train_test_split(df, test_size=(1-ratio), random_state=42)\n",
        "\n",
        "\n",
        "def split_data(df, split=\"oot\", ratio=0.7):\n",
        "    splits = {'oot':split_oot, 'oos':split_oos}\n",
        "    train, test = splits[split](df, ratio)\n",
        "    return train, test\n",
        "\n",
        "\n",
        "def preprocess(df, encode_weather=True, encode_season=True, commute=True, sleep=True, elim_outliers=True):\n",
        "    features = ['t1', 'hum', 'weather_code', 'wind_speed', \"season\", 'is_holiday', 'is_weekend']\n",
        "\n",
        "    df['timeofday'] = pd.to_datetime(df['timestamp']).dt.hour\n",
        "    features.append('timeofday')\n",
        "    if commute:\n",
        "        df, features = add_commute(df, features, True)\n",
        "    if sleep:\n",
        "        df, features = add_sleeptime(df, features)\n",
        "\n",
        "    if encode_weather:\n",
        "        df['wc_1'] = df.weather_code==1\n",
        "        df['wc_2'] = df.weather_code==2\n",
        "        df['wc_3'] = df.weather_code==3\n",
        "        df['wc_4'] = df.weather_code==4\n",
        "        df['wc_7'] = df.weather_code==7\n",
        "        df['wc_10'] = df.weather_code==10\n",
        "        #df['wc_26'] = df.weather_code==26\n",
        "        features.remove('weather_code')\n",
        "        features.extend(['wc_1', 'wc_2', 'wc_3', 'wc_4', 'wc_7', 'wc_10'])\n",
        "\n",
        "    if encode_season:\n",
        "        df['s_0'] = df.season==0\n",
        "        df['s_1'] = df.season==1\n",
        "        df['s_2'] = df.season==2\n",
        "        #df['s_3'] = df.season==3\n",
        "\n",
        "        features.remove('season')\n",
        "        features.extend(['s_0','s_1', 's_2'])\n",
        "\n",
        "    if elim_outliers:\n",
        "        df = eliminate_outliers(df)\n",
        "\n",
        "\n",
        "    return df, features\n",
        "\n"
      ],
      "execution_count": null,
      "outputs": []
    },
    {
      "cell_type": "markdown",
      "metadata": {
        "id": "KOeZHlWD56Nl"
      },
      "source": [
        "# OOS vs OOT split\n"
      ]
    },
    {
      "cell_type": "code",
      "metadata": {
        "colab": {
          "base_uri": "https://localhost:8080/"
        },
        "id": "Mz0aZHYy56Np",
        "outputId": "75abc5b6-60f7-41b2-e6a3-e7b8d3da9281"
      },
      "source": [
        "#choose a transform\n",
        "transform = 'none'\n",
        "\n",
        "df = pd.read_csv('bikes_london.csv')\n",
        "df, target = transform_target(df, transform)\n",
        "df, features = preprocess(df)\n",
        "\n",
        "# seperate the dataset over time in two as a workset (first %80) and a holdout set (last %20)\n",
        "# this holdout set will serve as a final validation set to measure between different approaches\n",
        "workset , holdout = split_oot(df, 0.8)\n",
        "# YOUR CODE\n",
        "\n"
      ],
      "execution_count": null,
      "outputs": [
        {
          "output_type": "stream",
          "text": [
            "(13655, 24) (3414, 24)\n"
          ],
          "name": "stdout"
        }
      ]
    },
    {
      "cell_type": "code",
      "metadata": {
        "colab": {
          "base_uri": "https://localhost:8080/",
          "height": 609
        },
        "id": "pxsWDoPaEd7K",
        "outputId": "6bbc6b8f-0acd-4484-e9a2-4c6cf59dd061"
      },
      "source": [
        "workset"
      ],
      "execution_count": null,
      "outputs": [
        {
          "output_type": "execute_result",
          "data": {
            "text/html": [
              "<div>\n",
              "<style scoped>\n",
              "    .dataframe tbody tr th:only-of-type {\n",
              "        vertical-align: middle;\n",
              "    }\n",
              "\n",
              "    .dataframe tbody tr th {\n",
              "        vertical-align: top;\n",
              "    }\n",
              "\n",
              "    .dataframe thead th {\n",
              "        text-align: right;\n",
              "    }\n",
              "</style>\n",
              "<table border=\"1\" class=\"dataframe\">\n",
              "  <thead>\n",
              "    <tr style=\"text-align: right;\">\n",
              "      <th></th>\n",
              "      <th>timestamp</th>\n",
              "      <th>cnt</th>\n",
              "      <th>t1</th>\n",
              "      <th>t2</th>\n",
              "      <th>hum</th>\n",
              "      <th>wind_speed</th>\n",
              "      <th>weather_code</th>\n",
              "      <th>is_holiday</th>\n",
              "      <th>is_weekend</th>\n",
              "      <th>season</th>\n",
              "      <th>target_none</th>\n",
              "      <th>timeofday</th>\n",
              "      <th>commute</th>\n",
              "      <th>sleeptime</th>\n",
              "      <th>wc_1</th>\n",
              "      <th>wc_2</th>\n",
              "      <th>wc_3</th>\n",
              "      <th>wc_4</th>\n",
              "      <th>wc_7</th>\n",
              "      <th>wc_10</th>\n",
              "      <th>s_0</th>\n",
              "      <th>s_1</th>\n",
              "      <th>s_2</th>\n",
              "      <th>outlier</th>\n",
              "    </tr>\n",
              "  </thead>\n",
              "  <tbody>\n",
              "    <tr>\n",
              "      <th>0</th>\n",
              "      <td>2015-01-04 00:00:00</td>\n",
              "      <td>182</td>\n",
              "      <td>3.0</td>\n",
              "      <td>2.0</td>\n",
              "      <td>93.0</td>\n",
              "      <td>6.0</td>\n",
              "      <td>3.0</td>\n",
              "      <td>0.0</td>\n",
              "      <td>1.0</td>\n",
              "      <td>3.0</td>\n",
              "      <td>182</td>\n",
              "      <td>0</td>\n",
              "      <td>0</td>\n",
              "      <td>True</td>\n",
              "      <td>False</td>\n",
              "      <td>False</td>\n",
              "      <td>True</td>\n",
              "      <td>False</td>\n",
              "      <td>False</td>\n",
              "      <td>False</td>\n",
              "      <td>False</td>\n",
              "      <td>False</td>\n",
              "      <td>False</td>\n",
              "      <td>0</td>\n",
              "    </tr>\n",
              "    <tr>\n",
              "      <th>1</th>\n",
              "      <td>2015-01-04 01:00:00</td>\n",
              "      <td>138</td>\n",
              "      <td>3.0</td>\n",
              "      <td>2.5</td>\n",
              "      <td>93.0</td>\n",
              "      <td>5.0</td>\n",
              "      <td>1.0</td>\n",
              "      <td>0.0</td>\n",
              "      <td>1.0</td>\n",
              "      <td>3.0</td>\n",
              "      <td>138</td>\n",
              "      <td>1</td>\n",
              "      <td>0</td>\n",
              "      <td>True</td>\n",
              "      <td>True</td>\n",
              "      <td>False</td>\n",
              "      <td>False</td>\n",
              "      <td>False</td>\n",
              "      <td>False</td>\n",
              "      <td>False</td>\n",
              "      <td>False</td>\n",
              "      <td>False</td>\n",
              "      <td>False</td>\n",
              "      <td>0</td>\n",
              "    </tr>\n",
              "    <tr>\n",
              "      <th>2</th>\n",
              "      <td>2015-01-04 02:00:00</td>\n",
              "      <td>134</td>\n",
              "      <td>2.5</td>\n",
              "      <td>2.5</td>\n",
              "      <td>96.5</td>\n",
              "      <td>0.0</td>\n",
              "      <td>1.0</td>\n",
              "      <td>0.0</td>\n",
              "      <td>1.0</td>\n",
              "      <td>3.0</td>\n",
              "      <td>134</td>\n",
              "      <td>2</td>\n",
              "      <td>0</td>\n",
              "      <td>True</td>\n",
              "      <td>True</td>\n",
              "      <td>False</td>\n",
              "      <td>False</td>\n",
              "      <td>False</td>\n",
              "      <td>False</td>\n",
              "      <td>False</td>\n",
              "      <td>False</td>\n",
              "      <td>False</td>\n",
              "      <td>False</td>\n",
              "      <td>0</td>\n",
              "    </tr>\n",
              "    <tr>\n",
              "      <th>3</th>\n",
              "      <td>2015-01-04 03:00:00</td>\n",
              "      <td>72</td>\n",
              "      <td>2.0</td>\n",
              "      <td>2.0</td>\n",
              "      <td>100.0</td>\n",
              "      <td>0.0</td>\n",
              "      <td>1.0</td>\n",
              "      <td>0.0</td>\n",
              "      <td>1.0</td>\n",
              "      <td>3.0</td>\n",
              "      <td>72</td>\n",
              "      <td>3</td>\n",
              "      <td>0</td>\n",
              "      <td>True</td>\n",
              "      <td>True</td>\n",
              "      <td>False</td>\n",
              "      <td>False</td>\n",
              "      <td>False</td>\n",
              "      <td>False</td>\n",
              "      <td>False</td>\n",
              "      <td>False</td>\n",
              "      <td>False</td>\n",
              "      <td>False</td>\n",
              "      <td>0</td>\n",
              "    </tr>\n",
              "    <tr>\n",
              "      <th>4</th>\n",
              "      <td>2015-01-04 04:00:00</td>\n",
              "      <td>47</td>\n",
              "      <td>2.0</td>\n",
              "      <td>0.0</td>\n",
              "      <td>93.0</td>\n",
              "      <td>6.5</td>\n",
              "      <td>1.0</td>\n",
              "      <td>0.0</td>\n",
              "      <td>1.0</td>\n",
              "      <td>3.0</td>\n",
              "      <td>47</td>\n",
              "      <td>4</td>\n",
              "      <td>0</td>\n",
              "      <td>True</td>\n",
              "      <td>True</td>\n",
              "      <td>False</td>\n",
              "      <td>False</td>\n",
              "      <td>False</td>\n",
              "      <td>False</td>\n",
              "      <td>False</td>\n",
              "      <td>False</td>\n",
              "      <td>False</td>\n",
              "      <td>False</td>\n",
              "      <td>0</td>\n",
              "    </tr>\n",
              "    <tr>\n",
              "      <th>...</th>\n",
              "      <td>...</td>\n",
              "      <td>...</td>\n",
              "      <td>...</td>\n",
              "      <td>...</td>\n",
              "      <td>...</td>\n",
              "      <td>...</td>\n",
              "      <td>...</td>\n",
              "      <td>...</td>\n",
              "      <td>...</td>\n",
              "      <td>...</td>\n",
              "      <td>...</td>\n",
              "      <td>...</td>\n",
              "      <td>...</td>\n",
              "      <td>...</td>\n",
              "      <td>...</td>\n",
              "      <td>...</td>\n",
              "      <td>...</td>\n",
              "      <td>...</td>\n",
              "      <td>...</td>\n",
              "      <td>...</td>\n",
              "      <td>...</td>\n",
              "      <td>...</td>\n",
              "      <td>...</td>\n",
              "      <td>...</td>\n",
              "    </tr>\n",
              "    <tr>\n",
              "      <th>13650</th>\n",
              "      <td>2016-08-12 19:00:00</td>\n",
              "      <td>2619</td>\n",
              "      <td>24.5</td>\n",
              "      <td>24.5</td>\n",
              "      <td>47.0</td>\n",
              "      <td>26.0</td>\n",
              "      <td>1.0</td>\n",
              "      <td>0.0</td>\n",
              "      <td>0.0</td>\n",
              "      <td>1.0</td>\n",
              "      <td>2619</td>\n",
              "      <td>19</td>\n",
              "      <td>1</td>\n",
              "      <td>False</td>\n",
              "      <td>True</td>\n",
              "      <td>False</td>\n",
              "      <td>False</td>\n",
              "      <td>False</td>\n",
              "      <td>False</td>\n",
              "      <td>False</td>\n",
              "      <td>False</td>\n",
              "      <td>True</td>\n",
              "      <td>False</td>\n",
              "      <td>0</td>\n",
              "    </tr>\n",
              "    <tr>\n",
              "      <th>13651</th>\n",
              "      <td>2016-08-12 20:00:00</td>\n",
              "      <td>1902</td>\n",
              "      <td>22.0</td>\n",
              "      <td>22.0</td>\n",
              "      <td>56.5</td>\n",
              "      <td>27.0</td>\n",
              "      <td>1.0</td>\n",
              "      <td>0.0</td>\n",
              "      <td>0.0</td>\n",
              "      <td>1.0</td>\n",
              "      <td>1902</td>\n",
              "      <td>20</td>\n",
              "      <td>0</td>\n",
              "      <td>False</td>\n",
              "      <td>True</td>\n",
              "      <td>False</td>\n",
              "      <td>False</td>\n",
              "      <td>False</td>\n",
              "      <td>False</td>\n",
              "      <td>False</td>\n",
              "      <td>False</td>\n",
              "      <td>True</td>\n",
              "      <td>False</td>\n",
              "      <td>0</td>\n",
              "    </tr>\n",
              "    <tr>\n",
              "      <th>13652</th>\n",
              "      <td>2016-08-12 21:00:00</td>\n",
              "      <td>1212</td>\n",
              "      <td>19.5</td>\n",
              "      <td>19.5</td>\n",
              "      <td>62.0</td>\n",
              "      <td>30.0</td>\n",
              "      <td>1.0</td>\n",
              "      <td>0.0</td>\n",
              "      <td>0.0</td>\n",
              "      <td>1.0</td>\n",
              "      <td>1212</td>\n",
              "      <td>21</td>\n",
              "      <td>0</td>\n",
              "      <td>False</td>\n",
              "      <td>True</td>\n",
              "      <td>False</td>\n",
              "      <td>False</td>\n",
              "      <td>False</td>\n",
              "      <td>False</td>\n",
              "      <td>False</td>\n",
              "      <td>False</td>\n",
              "      <td>True</td>\n",
              "      <td>False</td>\n",
              "      <td>0</td>\n",
              "    </tr>\n",
              "    <tr>\n",
              "      <th>13653</th>\n",
              "      <td>2016-08-12 22:00:00</td>\n",
              "      <td>1004</td>\n",
              "      <td>18.5</td>\n",
              "      <td>18.5</td>\n",
              "      <td>64.0</td>\n",
              "      <td>27.0</td>\n",
              "      <td>1.0</td>\n",
              "      <td>0.0</td>\n",
              "      <td>0.0</td>\n",
              "      <td>1.0</td>\n",
              "      <td>1004</td>\n",
              "      <td>22</td>\n",
              "      <td>0</td>\n",
              "      <td>False</td>\n",
              "      <td>True</td>\n",
              "      <td>False</td>\n",
              "      <td>False</td>\n",
              "      <td>False</td>\n",
              "      <td>False</td>\n",
              "      <td>False</td>\n",
              "      <td>False</td>\n",
              "      <td>True</td>\n",
              "      <td>False</td>\n",
              "      <td>0</td>\n",
              "    </tr>\n",
              "    <tr>\n",
              "      <th>13654</th>\n",
              "      <td>2016-08-12 23:00:00</td>\n",
              "      <td>798</td>\n",
              "      <td>18.0</td>\n",
              "      <td>18.0</td>\n",
              "      <td>66.0</td>\n",
              "      <td>22.5</td>\n",
              "      <td>1.0</td>\n",
              "      <td>0.0</td>\n",
              "      <td>0.0</td>\n",
              "      <td>1.0</td>\n",
              "      <td>798</td>\n",
              "      <td>23</td>\n",
              "      <td>0</td>\n",
              "      <td>True</td>\n",
              "      <td>True</td>\n",
              "      <td>False</td>\n",
              "      <td>False</td>\n",
              "      <td>False</td>\n",
              "      <td>False</td>\n",
              "      <td>False</td>\n",
              "      <td>False</td>\n",
              "      <td>True</td>\n",
              "      <td>False</td>\n",
              "      <td>0</td>\n",
              "    </tr>\n",
              "  </tbody>\n",
              "</table>\n",
              "<p>13655 rows × 24 columns</p>\n",
              "</div>"
            ],
            "text/plain": [
              "                 timestamp   cnt    t1    t2  ...    s_0    s_1    s_2  outlier\n",
              "0      2015-01-04 00:00:00   182   3.0   2.0  ...  False  False  False        0\n",
              "1      2015-01-04 01:00:00   138   3.0   2.5  ...  False  False  False        0\n",
              "2      2015-01-04 02:00:00   134   2.5   2.5  ...  False  False  False        0\n",
              "3      2015-01-04 03:00:00    72   2.0   2.0  ...  False  False  False        0\n",
              "4      2015-01-04 04:00:00    47   2.0   0.0  ...  False  False  False        0\n",
              "...                    ...   ...   ...   ...  ...    ...    ...    ...      ...\n",
              "13650  2016-08-12 19:00:00  2619  24.5  24.5  ...  False   True  False        0\n",
              "13651  2016-08-12 20:00:00  1902  22.0  22.0  ...  False   True  False        0\n",
              "13652  2016-08-12 21:00:00  1212  19.5  19.5  ...  False   True  False        0\n",
              "13653  2016-08-12 22:00:00  1004  18.5  18.5  ...  False   True  False        0\n",
              "13654  2016-08-12 23:00:00   798  18.0  18.0  ...  False   True  False        0\n",
              "\n",
              "[13655 rows x 24 columns]"
            ]
          },
          "metadata": {
            "tags": []
          },
          "execution_count": 28
        }
      ]
    },
    {
      "cell_type": "code",
      "metadata": {
        "id": "ET-UvIRI56Np"
      },
      "source": [
        "# With our workset, lets try a Out of sample split of 75/25\n",
        "workset_oos_train, workset_oos_test = split_oos(workset, 0.75)\n",
        "X = workset_oos_train[features]\n",
        "y = workset_oos_train['cnt']\n",
        "# Train a decision tree regressor using train test\n",
        "regressor = DecisionTreeRegressor(random_state=0)\n",
        "\n",
        "# Evaluate model with test set\n",
        "model = regressor.fit(X,y)\n"
      ],
      "execution_count": null,
      "outputs": []
    },
    {
      "cell_type": "code",
      "metadata": {
        "colab": {
          "base_uri": "https://localhost:8080/",
          "height": 439
        },
        "id": "FEnKZus3EoiE",
        "outputId": "befb092e-f026-4e92-9348-7a09f3153ef8"
      },
      "source": [
        "X"
      ],
      "execution_count": null,
      "outputs": [
        {
          "output_type": "execute_result",
          "data": {
            "text/html": [
              "<div>\n",
              "<style scoped>\n",
              "    .dataframe tbody tr th:only-of-type {\n",
              "        vertical-align: middle;\n",
              "    }\n",
              "\n",
              "    .dataframe tbody tr th {\n",
              "        vertical-align: top;\n",
              "    }\n",
              "\n",
              "    .dataframe thead th {\n",
              "        text-align: right;\n",
              "    }\n",
              "</style>\n",
              "<table border=\"1\" class=\"dataframe\">\n",
              "  <thead>\n",
              "    <tr style=\"text-align: right;\">\n",
              "      <th></th>\n",
              "      <th>t1</th>\n",
              "      <th>hum</th>\n",
              "      <th>wind_speed</th>\n",
              "      <th>is_holiday</th>\n",
              "      <th>is_weekend</th>\n",
              "      <th>timeofday</th>\n",
              "      <th>commute</th>\n",
              "      <th>sleeptime</th>\n",
              "      <th>wc_1</th>\n",
              "      <th>wc_2</th>\n",
              "      <th>wc_3</th>\n",
              "      <th>wc_4</th>\n",
              "      <th>wc_7</th>\n",
              "      <th>wc_10</th>\n",
              "      <th>s_0</th>\n",
              "      <th>s_1</th>\n",
              "      <th>s_2</th>\n",
              "    </tr>\n",
              "  </thead>\n",
              "  <tbody>\n",
              "    <tr>\n",
              "      <th>1845</th>\n",
              "      <td>6.0</td>\n",
              "      <td>78.5</td>\n",
              "      <td>13.0</td>\n",
              "      <td>0.0</td>\n",
              "      <td>1.0</td>\n",
              "      <td>23</td>\n",
              "      <td>0</td>\n",
              "      <td>True</td>\n",
              "      <td>False</td>\n",
              "      <td>False</td>\n",
              "      <td>True</td>\n",
              "      <td>False</td>\n",
              "      <td>False</td>\n",
              "      <td>False</td>\n",
              "      <td>True</td>\n",
              "      <td>False</td>\n",
              "      <td>False</td>\n",
              "    </tr>\n",
              "    <tr>\n",
              "      <th>8794</th>\n",
              "      <td>6.5</td>\n",
              "      <td>66.0</td>\n",
              "      <td>15.0</td>\n",
              "      <td>0.0</td>\n",
              "      <td>0.0</td>\n",
              "      <td>16</td>\n",
              "      <td>1</td>\n",
              "      <td>False</td>\n",
              "      <td>True</td>\n",
              "      <td>False</td>\n",
              "      <td>False</td>\n",
              "      <td>False</td>\n",
              "      <td>False</td>\n",
              "      <td>False</td>\n",
              "      <td>False</td>\n",
              "      <td>False</td>\n",
              "      <td>False</td>\n",
              "    </tr>\n",
              "    <tr>\n",
              "      <th>111</th>\n",
              "      <td>9.0</td>\n",
              "      <td>71.0</td>\n",
              "      <td>19.5</td>\n",
              "      <td>0.0</td>\n",
              "      <td>0.0</td>\n",
              "      <td>16</td>\n",
              "      <td>1</td>\n",
              "      <td>False</td>\n",
              "      <td>False</td>\n",
              "      <td>True</td>\n",
              "      <td>False</td>\n",
              "      <td>False</td>\n",
              "      <td>False</td>\n",
              "      <td>False</td>\n",
              "      <td>False</td>\n",
              "      <td>False</td>\n",
              "      <td>False</td>\n",
              "    </tr>\n",
              "    <tr>\n",
              "      <th>472</th>\n",
              "      <td>4.0</td>\n",
              "      <td>75.0</td>\n",
              "      <td>14.0</td>\n",
              "      <td>0.0</td>\n",
              "      <td>0.0</td>\n",
              "      <td>17</td>\n",
              "      <td>2</td>\n",
              "      <td>False</td>\n",
              "      <td>True</td>\n",
              "      <td>False</td>\n",
              "      <td>False</td>\n",
              "      <td>False</td>\n",
              "      <td>False</td>\n",
              "      <td>False</td>\n",
              "      <td>False</td>\n",
              "      <td>False</td>\n",
              "      <td>False</td>\n",
              "    </tr>\n",
              "    <tr>\n",
              "      <th>6906</th>\n",
              "      <td>9.0</td>\n",
              "      <td>90.5</td>\n",
              "      <td>6.0</td>\n",
              "      <td>0.0</td>\n",
              "      <td>0.0</td>\n",
              "      <td>8</td>\n",
              "      <td>3</td>\n",
              "      <td>False</td>\n",
              "      <td>False</td>\n",
              "      <td>False</td>\n",
              "      <td>True</td>\n",
              "      <td>False</td>\n",
              "      <td>False</td>\n",
              "      <td>False</td>\n",
              "      <td>False</td>\n",
              "      <td>False</td>\n",
              "      <td>True</td>\n",
              "    </tr>\n",
              "    <tr>\n",
              "      <th>...</th>\n",
              "      <td>...</td>\n",
              "      <td>...</td>\n",
              "      <td>...</td>\n",
              "      <td>...</td>\n",
              "      <td>...</td>\n",
              "      <td>...</td>\n",
              "      <td>...</td>\n",
              "      <td>...</td>\n",
              "      <td>...</td>\n",
              "      <td>...</td>\n",
              "      <td>...</td>\n",
              "      <td>...</td>\n",
              "      <td>...</td>\n",
              "      <td>...</td>\n",
              "      <td>...</td>\n",
              "      <td>...</td>\n",
              "      <td>...</td>\n",
              "    </tr>\n",
              "    <tr>\n",
              "      <th>5191</th>\n",
              "      <td>16.0</td>\n",
              "      <td>77.0</td>\n",
              "      <td>8.0</td>\n",
              "      <td>0.0</td>\n",
              "      <td>1.0</td>\n",
              "      <td>5</td>\n",
              "      <td>0</td>\n",
              "      <td>True</td>\n",
              "      <td>True</td>\n",
              "      <td>False</td>\n",
              "      <td>False</td>\n",
              "      <td>False</td>\n",
              "      <td>False</td>\n",
              "      <td>False</td>\n",
              "      <td>False</td>\n",
              "      <td>True</td>\n",
              "      <td>False</td>\n",
              "    </tr>\n",
              "    <tr>\n",
              "      <th>13418</th>\n",
              "      <td>20.0</td>\n",
              "      <td>83.0</td>\n",
              "      <td>23.0</td>\n",
              "      <td>0.0</td>\n",
              "      <td>0.0</td>\n",
              "      <td>2</td>\n",
              "      <td>0</td>\n",
              "      <td>True</td>\n",
              "      <td>False</td>\n",
              "      <td>False</td>\n",
              "      <td>False</td>\n",
              "      <td>True</td>\n",
              "      <td>False</td>\n",
              "      <td>False</td>\n",
              "      <td>False</td>\n",
              "      <td>True</td>\n",
              "      <td>False</td>\n",
              "    </tr>\n",
              "    <tr>\n",
              "      <th>5390</th>\n",
              "      <td>19.5</td>\n",
              "      <td>40.0</td>\n",
              "      <td>13.0</td>\n",
              "      <td>0.0</td>\n",
              "      <td>0.0</td>\n",
              "      <td>12</td>\n",
              "      <td>0</td>\n",
              "      <td>False</td>\n",
              "      <td>True</td>\n",
              "      <td>False</td>\n",
              "      <td>False</td>\n",
              "      <td>False</td>\n",
              "      <td>False</td>\n",
              "      <td>False</td>\n",
              "      <td>False</td>\n",
              "      <td>True</td>\n",
              "      <td>False</td>\n",
              "    </tr>\n",
              "    <tr>\n",
              "      <th>860</th>\n",
              "      <td>5.0</td>\n",
              "      <td>78.5</td>\n",
              "      <td>14.0</td>\n",
              "      <td>0.0</td>\n",
              "      <td>1.0</td>\n",
              "      <td>21</td>\n",
              "      <td>0</td>\n",
              "      <td>False</td>\n",
              "      <td>True</td>\n",
              "      <td>False</td>\n",
              "      <td>False</td>\n",
              "      <td>False</td>\n",
              "      <td>False</td>\n",
              "      <td>False</td>\n",
              "      <td>False</td>\n",
              "      <td>False</td>\n",
              "      <td>False</td>\n",
              "    </tr>\n",
              "    <tr>\n",
              "      <th>7270</th>\n",
              "      <td>15.0</td>\n",
              "      <td>77.0</td>\n",
              "      <td>12.0</td>\n",
              "      <td>0.0</td>\n",
              "      <td>0.0</td>\n",
              "      <td>13</td>\n",
              "      <td>0</td>\n",
              "      <td>False</td>\n",
              "      <td>False</td>\n",
              "      <td>False</td>\n",
              "      <td>False</td>\n",
              "      <td>False</td>\n",
              "      <td>True</td>\n",
              "      <td>False</td>\n",
              "      <td>False</td>\n",
              "      <td>False</td>\n",
              "      <td>True</td>\n",
              "    </tr>\n",
              "  </tbody>\n",
              "</table>\n",
              "<p>10241 rows × 17 columns</p>\n",
              "</div>"
            ],
            "text/plain": [
              "         t1   hum  wind_speed  is_holiday  ...  wc_10    s_0    s_1    s_2\n",
              "1845    6.0  78.5        13.0         0.0  ...  False   True  False  False\n",
              "8794    6.5  66.0        15.0         0.0  ...  False  False  False  False\n",
              "111     9.0  71.0        19.5         0.0  ...  False  False  False  False\n",
              "472     4.0  75.0        14.0         0.0  ...  False  False  False  False\n",
              "6906    9.0  90.5         6.0         0.0  ...  False  False  False   True\n",
              "...     ...   ...         ...         ...  ...    ...    ...    ...    ...\n",
              "5191   16.0  77.0         8.0         0.0  ...  False  False   True  False\n",
              "13418  20.0  83.0        23.0         0.0  ...  False  False   True  False\n",
              "5390   19.5  40.0        13.0         0.0  ...  False  False   True  False\n",
              "860     5.0  78.5        14.0         0.0  ...  False  False  False  False\n",
              "7270   15.0  77.0        12.0         0.0  ...  False  False  False   True\n",
              "\n",
              "[10241 rows x 17 columns]"
            ]
          },
          "metadata": {
            "tags": []
          },
          "execution_count": 30
        }
      ]
    },
    {
      "cell_type": "code",
      "metadata": {
        "colab": {
          "base_uri": "https://localhost:8080/"
        },
        "id": "dOR_3oCL56Nr",
        "outputId": "8d18eb91-ee84-4a8c-cdfe-ee629d1e9d11"
      },
      "source": [
        "# Now try a Out of time split 75/25 with same workset\n",
        "workset_oot_train, workset_oot_test = split_oot(workset, 0.75)\n",
        "X2 = workset_oot_train[features]\n",
        "y2 = workset_oot_train['cnt']\n",
        "\n",
        "# Train a decision tree regressor using train test\n",
        "regressor2 = DecisionTreeRegressor(random_state=1)\n",
        "\n",
        "# Evaluate model with test set\n",
        "model2 = regressor2.fit(X2,y2)\n"
      ],
      "execution_count": null,
      "outputs": [
        {
          "output_type": "stream",
          "text": [
            "(10241, 24) (3414, 24)\n"
          ],
          "name": "stdout"
        }
      ]
    },
    {
      "cell_type": "code",
      "metadata": {
        "id": "wzDMxZNQ56Nr"
      },
      "source": [
        "# Now evaluate both models against the holdout set\n",
        "\n",
        "X_test = workset_oos_test[features]\n",
        "y_test = workset_oos_test['cnt']\n",
        "# YOUR CODE\n",
        "y_pred = model.predict(X_test)\n"
      ],
      "execution_count": null,
      "outputs": []
    },
    {
      "cell_type": "code",
      "metadata": {
        "colab": {
          "base_uri": "https://localhost:8080/"
        },
        "id": "MwpkniITHaN0",
        "outputId": "8ee97eb3-0251-41d4-f100-c3575523ca09"
      },
      "source": [
        "result = r2_score(y_test, y_pred)\n",
        "result"
      ],
      "execution_count": null,
      "outputs": [
        {
          "output_type": "execute_result",
          "data": {
            "text/plain": [
              "0.9248341692277744"
            ]
          },
          "metadata": {
            "tags": []
          },
          "execution_count": 33
        }
      ]
    },
    {
      "cell_type": "code",
      "metadata": {
        "id": "rbTzUSs6I0F_"
      },
      "source": [
        "X2_test = workset_oot_test[features]\n",
        "y2_test = workset_oot_test['cnt']\n",
        "# YOUR CODE\n",
        "y_pred2 = model.predict(X2_test)"
      ],
      "execution_count": null,
      "outputs": []
    },
    {
      "cell_type": "code",
      "metadata": {
        "colab": {
          "base_uri": "https://localhost:8080/"
        },
        "id": "mbJj3XVuI8Uw",
        "outputId": "77925e26-3fe0-4667-fea4-67ff306f080f"
      },
      "source": [
        "result2 = r2_score(y2_test, y_pred2)\n",
        "result2"
      ],
      "execution_count": null,
      "outputs": [
        {
          "output_type": "execute_result",
          "data": {
            "text/plain": [
              "0.9797240239199992"
            ]
          },
          "metadata": {
            "tags": []
          },
          "execution_count": 35
        }
      ]
    },
    {
      "cell_type": "code",
      "metadata": {
        "id": "fUkGVKXSP2Bz"
      },
      "source": [
        "X_holdout = holdout[features]\n",
        "y_holdout = holdout['cnt']\n",
        "# YOUR CODE\n",
        "holdout_pred = model.predict(X_holdout)\n",
        "holdout_pred2 = model2.predict(X_holdout)"
      ],
      "execution_count": null,
      "outputs": []
    },
    {
      "cell_type": "code",
      "metadata": {
        "colab": {
          "base_uri": "https://localhost:8080/"
        },
        "id": "xnFhHfj4QmGH",
        "outputId": "9f8c849c-ad5a-4627-d4c5-713854f0eab7"
      },
      "source": [
        "result_h = r2_score(y_holdout, holdout_pred)\n",
        "result_h"
      ],
      "execution_count": null,
      "outputs": [
        {
          "output_type": "execute_result",
          "data": {
            "text/plain": [
              "0.8679677004696437"
            ]
          },
          "metadata": {
            "tags": []
          },
          "execution_count": 37
        }
      ]
    },
    {
      "cell_type": "code",
      "metadata": {
        "colab": {
          "base_uri": "https://localhost:8080/"
        },
        "id": "VQ8-EO_lQXvM",
        "outputId": "7b9a93de-11a7-46f2-bd31-49fd58f251da"
      },
      "source": [
        "result_h2 = r2_score(y_holdout, holdout_pred2)\n",
        "result_h2"
      ],
      "execution_count": null,
      "outputs": [
        {
          "output_type": "execute_result",
          "data": {
            "text/plain": [
              "0.8663001666081771"
            ]
          },
          "metadata": {
            "tags": []
          },
          "execution_count": 38
        }
      ]
    },
    {
      "cell_type": "markdown",
      "metadata": {
        "id": "eObL73xrRjfO"
      },
      "source": [
        "ilk başta workset zaman gore ilk %80 lık kısım olaak sekılde veri seti 2 ye bolundu.\n",
        "Workset verı setı kendı ıcınde traın ve test olacak sekılde %75 oranında olacak sekılde oot ve oos methodlarıyle ıkıye ayrıldı. sonrasında decısıon tree modelı kulanarak ıkı farklı methodla ayrılan traın datasetlerı kullanılarak tahmınleme calısması yapıldı. Bunların test performanslarında zamana gore ayrılan model daha ıyı sonuc verdıgı goruldu(oot). Ancak holdout verı setı ıle bu egıtılen modellerın tahmınleme performanslarına bakıldıgında oot daha kotu performans gosterdı. Bunun nedenı rastgele secılen datasetının holdout verı etıne daha yakın zamandakı verılerı ıcermesı etkılı olmus olabılır dıye dusunuyoruz."
      ]
    },
    {
      "cell_type": "code",
      "metadata": {
        "id": "xM5CKPc-56Ns"
      },
      "source": [
        "# Comment on your observations\n",
        "#When dataset was occured via oot split method, the model result gets higher number due to the timeline period.\n",
        "#Oos method has slightly lower result because of the using dataset which comes from mixture time preiod.\n",
        "# Your comments\n",
        "\n"
      ],
      "execution_count": null,
      "outputs": []
    },
    {
      "cell_type": "markdown",
      "metadata": {
        "id": "gOE0SEFr56Ns"
      },
      "source": [
        "# Model Selection"
      ]
    },
    {
      "cell_type": "code",
      "metadata": {
        "id": "5x6sEz1o56Ns"
      },
      "source": [
        "\n",
        "def Apply_CrossValidation(model, split_choice, data, features, target, metric = 'MSE', params=None):\n",
        "\n",
        "    if split_choice == 'oot':\n",
        "        fold = TimeSeriesSplit(max_train_size=None, n_splits=10)\n",
        "\n",
        "        results = []\n",
        "        for i_train, i_test in fold.split(data):\n",
        "\n",
        "            X_train, Y_train = data.iloc[i_train][features], data.iloc[i_train][target]\n",
        "            X_test, Y_test = data.iloc[i_test][features], data.iloc[i_test][target]\n",
        "\n",
        "            regr = model() if params is None else model(**params)\n",
        "            fold_model = regr.fit(X_train, Y_train)\n",
        "\n",
        "            pred = fold_model.predict(X_test)\n",
        "\n",
        "            if metric == 'MSE':\n",
        "                result = mean_squared_error(Y_test, pred)\n",
        "            elif metric == 'MAE':\n",
        "                result = mean_absolute_error(Y_test, pred)\n",
        "            elif metric == 'R2':\n",
        "                result = r2_score(Y_test, pred)\n",
        "            else:\n",
        "                result = (mean_squared_error(Y_test, pred)**0.5)\n",
        "\n",
        "            results.append(result)\n",
        "\n",
        "            print(\"Train: \", data.iloc[i_train][\"timestamp\"].min(), ' / ', data.iloc[i_train][\"timestamp\"].max(),\n",
        "                 \"------- Test: \", data.iloc[i_test][\"timestamp\"].min(), ' / ', data.iloc[i_test][\"timestamp\"].max())\n",
        "\n",
        "        print('Mean of scores: ', np.mean(results))\n",
        "        print('Std of scores: ', np.std(results))\n",
        "\n",
        "        return results\n",
        "\n",
        "\n",
        "    elif split_choice == 'tbs': #time based random sampling\n",
        "        train, test = split_oot(data, 0.7)\n",
        "\n",
        "        results = []\n",
        "        for d in [ 1,  2,  3,  4,  5,  6,  7,  8,  9, 10]:\n",
        "            tr_fold = train.sample(frac = 0.5, random_state = d)\n",
        "            test_fold = test.sample(frac = 0.5, random_state = d)\n",
        "\n",
        "            regr = model() if params is None else model(**params)\n",
        "            fold_model = regr.fit(tr_fold[features], tr_fold[target])\n",
        "\n",
        "            pred = fold_model.predict(test_fold[features])\n",
        "\n",
        "            if metric == 'MSE':\n",
        "                result = mean_squared_error(test_fold[target], pred)\n",
        "            elif metric == 'MAE':\n",
        "                result = mean_absolute_error(test_fold[target], pred)\n",
        "            elif metric == 'R2':\n",
        "                result = r2_score(test_fold[target], pred)\n",
        "            else:\n",
        "                result = (mean_squared_error(test_fold[target], pred)**0.5)\n",
        "\n",
        "            results.append(result)\n",
        "\n",
        "            print(\"Train: \", tr_fold[\"timestamp\"].min(), ' / ', tr_fold[\"timestamp\"].max(),\n",
        "                 \"------- Test: \", test_fold[\"timestamp\"].min(), ' / ', test_fold[\"timestamp\"].max())\n",
        "\n",
        "        print('Mean of scores: ', np.mean(results))\n",
        "        print('Std of scores: ', np.std(results))\n",
        "\n",
        "        return results\n",
        "\n",
        "\n",
        "def experiment(exp_name, model, params):\n",
        "    # Let's keep these as constant between model experiments\n",
        "    transform='freeman' # 'none', 'log', 'anscombe', 'freeman'\n",
        "    split_choice='oot' # 'oot', 'tbs' (time based random split)\n",
        "    metric='R2' # 'MSE', 'MAE', 'R2'\n",
        "    encode_weather=True\n",
        "    encode_season=True\n",
        "    commute=False\n",
        "    sleep=True\n",
        "    elim_outliers=True\n",
        "\n",
        "    df = pd.read_csv('bikes_london.csv')\n",
        "    df, target = transform_target(df, transform)\n",
        "    df, features = preprocess(df, encode_weather, encode_season, commute,\n",
        "               sleep, elim_outliers)\n",
        "    print(exp_name)\n",
        "    results = Apply_CrossValidation(model=model, params=params, split_choice=split_choice,\n",
        "                                    data=df, features=features, target=target, metric=metric)\n",
        "    return results\n",
        "\n"
      ],
      "execution_count": null,
      "outputs": []
    },
    {
      "cell_type": "code",
      "metadata": {
        "id": "tE-nhBxd56Nt",
        "colab": {
          "base_uri": "https://localhost:8080/"
        },
        "outputId": "f90a5e44-be1d-4a20-f598-b42f05887a19"
      },
      "source": [
        "exp1 = experiment(exp_name=\"Linear regression\", model=linear_model.LinearRegression, params=None)\n",
        "\n",
        "print(exp1)"
      ],
      "execution_count": null,
      "outputs": [
        {
          "output_type": "stream",
          "text": [
            "Linear regression\n",
            "Train:  2015-01-04 00:00:00  /  2015-03-10 00:00:00 ------- Test:  2015-03-10 01:00:00  /  2015-05-13 21:00:00\n",
            "Train:  2015-01-04 00:00:00  /  2015-05-13 21:00:00 ------- Test:  2015-05-13 22:00:00  /  2015-07-17 20:00:00\n",
            "Train:  2015-01-04 00:00:00  /  2015-07-17 20:00:00 ------- Test:  2015-07-17 21:00:00  /  2015-09-21 02:00:00\n",
            "Train:  2015-01-04 00:00:00  /  2015-09-21 02:00:00 ------- Test:  2015-09-21 03:00:00  /  2015-11-25 09:00:00\n",
            "Train:  2015-01-04 00:00:00  /  2015-11-25 09:00:00 ------- Test:  2015-11-25 10:00:00  /  2016-02-12 14:00:00\n",
            "Train:  2015-01-04 00:00:00  /  2016-02-12 14:00:00 ------- Test:  2016-02-12 15:00:00  /  2016-04-17 22:00:00\n",
            "Train:  2015-01-04 00:00:00  /  2016-04-17 22:00:00 ------- Test:  2016-04-17 23:00:00  /  2016-06-21 13:00:00\n",
            "Train:  2015-01-04 00:00:00  /  2016-06-21 13:00:00 ------- Test:  2016-06-21 14:00:00  /  2016-08-26 02:00:00\n",
            "Train:  2015-01-04 00:00:00  /  2016-08-26 02:00:00 ------- Test:  2016-08-26 03:00:00  /  2016-10-31 07:00:00\n",
            "Train:  2015-01-04 00:00:00  /  2016-10-31 07:00:00 ------- Test:  2016-10-31 08:00:00  /  2017-01-03 23:00:00\n",
            "Mean of scores:  0.5860528617855859\n",
            "Std of scores:  0.04286012727526894\n",
            "[0.5997407465462856, 0.6331937501798941, 0.62763605381122, 0.5509140071810548, 0.522783843719802, 0.5670392879315068, 0.6112880132536473, 0.6413440782314596, 0.5906557304047761, 0.515933106596213]\n"
          ],
          "name": "stdout"
        }
      ]
    },
    {
      "cell_type": "code",
      "metadata": {
        "colab": {
          "base_uri": "https://localhost:8080/"
        },
        "id": "xR22ShWw56Nu",
        "outputId": "94ca4a3b-8d46-4f78-ef3a-e3162fa1e531"
      },
      "source": [
        "\n",
        "exp2 = experiment(exp_name=\"Decision Tree\", model=DecisionTreeRegressor, params= None)\n",
        "\n",
        "print(exp2)"
      ],
      "execution_count": null,
      "outputs": [
        {
          "output_type": "stream",
          "text": [
            "Decision Tree\n",
            "Train:  2015-01-04 00:00:00  /  2015-03-10 00:00:00 ------- Test:  2015-03-10 01:00:00  /  2015-05-13 21:00:00\n",
            "Train:  2015-01-04 00:00:00  /  2015-05-13 21:00:00 ------- Test:  2015-05-13 22:00:00  /  2015-07-17 20:00:00\n",
            "Train:  2015-01-04 00:00:00  /  2015-07-17 20:00:00 ------- Test:  2015-07-17 21:00:00  /  2015-09-21 02:00:00\n",
            "Train:  2015-01-04 00:00:00  /  2015-09-21 02:00:00 ------- Test:  2015-09-21 03:00:00  /  2015-11-25 09:00:00\n",
            "Train:  2015-01-04 00:00:00  /  2015-11-25 09:00:00 ------- Test:  2015-11-25 10:00:00  /  2016-02-12 14:00:00\n",
            "Train:  2015-01-04 00:00:00  /  2016-02-12 14:00:00 ------- Test:  2016-02-12 15:00:00  /  2016-04-17 22:00:00\n",
            "Train:  2015-01-04 00:00:00  /  2016-04-17 22:00:00 ------- Test:  2016-04-17 23:00:00  /  2016-06-21 13:00:00\n",
            "Train:  2015-01-04 00:00:00  /  2016-06-21 13:00:00 ------- Test:  2016-06-21 14:00:00  /  2016-08-26 02:00:00\n",
            "Train:  2015-01-04 00:00:00  /  2016-08-26 02:00:00 ------- Test:  2016-08-26 03:00:00  /  2016-10-31 07:00:00\n",
            "Train:  2015-01-04 00:00:00  /  2016-10-31 07:00:00 ------- Test:  2016-10-31 08:00:00  /  2017-01-03 23:00:00\n",
            "Mean of scores:  0.9028877279889356\n",
            "Std of scores:  0.030398438340227683\n",
            "[0.8665975522824331, 0.9088168162667721, 0.9081617331348133, 0.9043191662546369, 0.8976902844830825, 0.9352501680740501, 0.9098377153039461, 0.9308220279218432, 0.9347724667730611, 0.8326093493947175]\n"
          ],
          "name": "stdout"
        }
      ]
    },
    {
      "cell_type": "code",
      "metadata": {
        "id": "Ni1V2IO956Nu"
      },
      "source": [
        "# Compare these two models and select the better model\n",
        "#Decision tree get higher results .....\n",
        "# YOUR CODE HERE\n",
        "\n"
      ],
      "execution_count": null,
      "outputs": []
    },
    {
      "cell_type": "code",
      "metadata": {
        "id": "4QgCAl2A56Nu"
      },
      "source": [
        "# Comments On selection\n",
        "#DECISION TREE REGRESSOR HAS BETTER MEAN OF SCORES (0.9131)"
      ],
      "execution_count": null,
      "outputs": []
    },
    {
      "cell_type": "markdown",
      "metadata": {
        "id": "wVwLb6Wl56Nv"
      },
      "source": [
        "# Model Tuning"
      ]
    },
    {
      "cell_type": "code",
      "metadata": {
        "colab": {
          "base_uri": "https://localhost:8080/",
          "height": 198
        },
        "id": "S585T1c_Md88",
        "outputId": "a5828406-c060-423a-e8d6-c7d0a2a09769"
      },
      "source": [
        "exp3 = experiment(exp_name=\"Decision Tree\", model=DecisionTreeRegressor, params= params)\n",
        "\n",
        "print(exp3)"
      ],
      "execution_count": null,
      "outputs": [
        {
          "output_type": "error",
          "ename": "NameError",
          "evalue": "ignored",
          "traceback": [
            "\u001b[0;31m---------------------------------------------------------------------------\u001b[0m",
            "\u001b[0;31mNameError\u001b[0m                                 Traceback (most recent call last)",
            "\u001b[0;32m<ipython-input-45-b0436d4527ca>\u001b[0m in \u001b[0;36m<module>\u001b[0;34m()\u001b[0m\n\u001b[0;32m----> 1\u001b[0;31m \u001b[0mexp3\u001b[0m \u001b[0;34m=\u001b[0m \u001b[0mexperiment\u001b[0m\u001b[0;34m(\u001b[0m\u001b[0mexp_name\u001b[0m\u001b[0;34m=\u001b[0m\u001b[0;34m\"Decision Tree\"\u001b[0m\u001b[0;34m,\u001b[0m \u001b[0mmodel\u001b[0m\u001b[0;34m=\u001b[0m\u001b[0mDecisionTreeRegressor\u001b[0m\u001b[0;34m,\u001b[0m \u001b[0mparams\u001b[0m\u001b[0;34m=\u001b[0m \u001b[0mparams\u001b[0m\u001b[0;34m)\u001b[0m\u001b[0;34m\u001b[0m\u001b[0;34m\u001b[0m\u001b[0m\n\u001b[0m\u001b[1;32m      2\u001b[0m \u001b[0;34m\u001b[0m\u001b[0m\n\u001b[1;32m      3\u001b[0m \u001b[0mprint\u001b[0m\u001b[0;34m(\u001b[0m\u001b[0mexp3\u001b[0m\u001b[0;34m)\u001b[0m\u001b[0;34m\u001b[0m\u001b[0;34m\u001b[0m\u001b[0m\n",
            "\u001b[0;31mNameError\u001b[0m: name 'params' is not defined"
          ]
        }
      ]
    },
    {
      "cell_type": "code",
      "metadata": {
        "id": "BuJm9WnsTuQX"
      },
      "source": [
        "exp4 = experiment(exp_name=\"Decision Tree\", model=DecisionTreeRegressor, params= params1)\n",
        "\n",
        "print(exp4)"
      ],
      "execution_count": null,
      "outputs": []
    },
    {
      "cell_type": "code",
      "metadata": {
        "id": "jRzJJ5AJTw9D"
      },
      "source": [
        "exp5 = experiment(exp_name=\"Decision Tree\", model=DecisionTreeRegressor, params= params2)\n",
        "\n",
        "print(exp5)"
      ],
      "execution_count": null,
      "outputs": []
    },
    {
      "cell_type": "code",
      "metadata": {
        "id": "U8hIBjsLTyxK"
      },
      "source": [
        "exp6 = experiment(exp_name=\"Decision Tree\", model=DecisionTreeRegressor, params= params3)\n",
        "\n",
        "print(exp6)"
      ],
      "execution_count": null,
      "outputs": []
    },
    {
      "cell_type": "code",
      "metadata": {
        "id": "n4K-Lr1pT0xp"
      },
      "source": [
        "exp7 = experiment(exp_name=\"Decision Tree\", model=DecisionTreeRegressor, params= params4)\n",
        "\n",
        "print(exp7)"
      ],
      "execution_count": null,
      "outputs": []
    },
    {
      "cell_type": "code",
      "metadata": {
        "id": "OHoZKJ4AS_RY"
      },
      "source": [
        "# Try to achieve a better score using different parameters\n",
        "params = {\n",
        "            \"min_samples_split\": 102,\n",
        "            \"max_depth\": 99,\n",
        "            \"min_samples_leaf\": 500,\n",
        "            \"max_leaf_nodes\": 9999\n",
        "\n",
        "        }\n",
        "\n",
        "# Choose top 2 parameter sets from your trials and compare these two and select the better parameter set\n",
        "\n",
        "# YOUR CODE HERE"
      ],
      "execution_count": null,
      "outputs": []
    },
    {
      "cell_type": "code",
      "metadata": {
        "id": "WUTM_5ik56Nv"
      },
      "source": [
        "# Try to achieve a better score using different parameters\n",
        "params1 = {\n",
        "            \"min_samples_split\": 2,\n",
        "            \"max_depth\": 99,\n",
        "            \"min_samples_leaf\": 6,\n",
        "            \"max_leaf_nodes\": 9999\n",
        "\n",
        "        }\n",
        "\n",
        "# Choose top 2 parameter sets from your trials and compare these two and select the better parameter set\n",
        "\n",
        "# YOUR CODE HERE\n"
      ],
      "execution_count": null,
      "outputs": []
    },
    {
      "cell_type": "code",
      "metadata": {
        "id": "nw3qAJRnSnPp"
      },
      "source": [
        "# Try to achieve a better score using different parameters\n",
        "params2 = {\n",
        "            \"min_samples_split\": 2,\n",
        "            \"max_depth\": 10,\n",
        "            \"min_samples_leaf\": 6,\n",
        "            \"max_leaf_nodes\": 9999\n",
        "\n",
        "        }\n",
        "\n",
        "# Choose top 2 parameter sets from your trials and compare these two and select the better parameter set\n",
        "\n",
        "# YOUR CODE HERE"
      ],
      "execution_count": null,
      "outputs": []
    },
    {
      "cell_type": "code",
      "metadata": {
        "id": "0p55AkvgSsQE"
      },
      "source": [
        "# Try to achieve a better score using different parameters\n",
        "params3 = {\n",
        "            \"min_samples_split\": 2,\n",
        "            \"max_depth\": 99,\n",
        "            \"min_samples_leaf\": 6,\n",
        "            \"max_leaf_nodes\": 9999\n",
        "\n",
        "        }\n",
        "\n",
        "# Choose top 2 parameter sets from your trials and compare these two and select the better parameter set\n",
        "\n",
        "# YOUR CODE HERE"
      ],
      "execution_count": null,
      "outputs": []
    },
    {
      "cell_type": "code",
      "metadata": {
        "id": "-ltLAuYPSuMh"
      },
      "source": [
        "# Try to achieve a better score using different parameters\n",
        "params4 = {\n",
        "            \"min_samples_split\": 2,\n",
        "            \"max_depth\": 20,\n",
        "            \"min_samples_leaf\": 6,\n",
        "            \"max_leaf_nodes\": 9999\n",
        "\n",
        "        }\n",
        "\n",
        "# Choose top 2 parameter sets from your trials and compare these two and select the better parameter set\n",
        "\n",
        "# YOUR CODE HERE"
      ],
      "execution_count": null,
      "outputs": []
    },
    {
      "cell_type": "code",
      "metadata": {
        "id": "3o7mKC-f56Nw"
      },
      "source": [
        "# give a definition for the above parameters and describe how they effect the training and results\n",
        "\n",
        "#\"min_samples_split\":  minimum number of samples required to split an internal node\n",
        "#\"max_depth\": represents the depth of each tree\n",
        "#\"min_samples_leaf\": The minimum number of samples required to be at a leaf node\n",
        "#\"max_leaf_nodes\": The maximum number of leaf nodes\n",
        "\n",
        "# lowering the min_samples_split and min_samples_leaf parameters increased the mean of scores.\n"
      ],
      "execution_count": null,
      "outputs": []
    },
    {
      "cell_type": "markdown",
      "metadata": {
        "id": "2XHkKpmI56Nx"
      },
      "source": [
        "# Automated hyper parameter search\n"
      ]
    },
    {
      "cell_type": "code",
      "metadata": {
        "id": "t5ZDBVq656Ny",
        "colab": {
          "base_uri": "https://localhost:8080/"
        },
        "outputId": "a20ff763-cdc9-43d9-b01d-41d31a18e56f"
      },
      "source": [
        "# Select some values for parameter search\n",
        "param_grid = {\n",
        "              \"min_samples_split\": [2, 3, 10],\n",
        "              \"max_depth\": [3, None],\n",
        "              \"min_samples_leaf\": [2, 3,10],\n",
        "              \"max_leaf_nodes\": [21, 99]\n",
        "              }\n",
        "\n",
        "# Use RandomizedSearchCV to find best parameters for your model\n",
        "# use DecisionTreeRegressor, MSE and your choice of split\n",
        "\n",
        "# YOUR CODE HERE\n",
        "random_search = RandomizedSearchCV(regressor, param_grid)\n",
        "random_search.fit(X2, y2)"
      ],
      "execution_count": null,
      "outputs": [
        {
          "output_type": "execute_result",
          "data": {
            "text/plain": [
              "RandomizedSearchCV(cv=None, error_score=nan,\n",
              "                   estimator=DecisionTreeRegressor(ccp_alpha=0.0,\n",
              "                                                   criterion='mse',\n",
              "                                                   max_depth=None,\n",
              "                                                   max_features=None,\n",
              "                                                   max_leaf_nodes=None,\n",
              "                                                   min_impurity_decrease=0.0,\n",
              "                                                   min_impurity_split=None,\n",
              "                                                   min_samples_leaf=1,\n",
              "                                                   min_samples_split=2,\n",
              "                                                   min_weight_fraction_leaf=0.0,\n",
              "                                                   presort='deprecated',\n",
              "                                                   random_state=0,\n",
              "                                                   splitter='best'),\n",
              "                   iid='deprecated', n_iter=10, n_jobs=None,\n",
              "                   param_distributions={'max_depth': [3, None],\n",
              "                                        'max_leaf_nodes': [21, 99],\n",
              "                                        'min_samples_leaf': [2, 3, 10],\n",
              "                                        'min_samples_split': [2, 3, 10]},\n",
              "                   pre_dispatch='2*n_jobs', random_state=None, refit=True,\n",
              "                   return_train_score=False, scoring=None, verbose=0)"
            ]
          },
          "metadata": {
            "tags": []
          },
          "execution_count": 54
        }
      ]
    },
    {
      "cell_type": "code",
      "metadata": {
        "id": "_ANncuIx56Ny",
        "colab": {
          "base_uri": "https://localhost:8080/"
        },
        "outputId": "65f2667b-0bdb-415e-cf25-316ec4a4f48b"
      },
      "source": [
        "# Print the best parameters and the best score achieved\n",
        "\n",
        "# YOUR CODE\n",
        "print(random_search.best_params_)\n"
      ],
      "execution_count": null,
      "outputs": [
        {
          "output_type": "stream",
          "text": [
            "{'min_samples_split': 3, 'min_samples_leaf': 3, 'max_leaf_nodes': 99, 'max_depth': None}\n"
          ],
          "name": "stdout"
        }
      ]
    },
    {
      "cell_type": "markdown",
      "metadata": {
        "id": "MyjTmlPW56Ny"
      },
      "source": [
        "# Final training with best parameters\n"
      ]
    },
    {
      "cell_type": "code",
      "metadata": {
        "id": "w9cJtbIB56Nz",
        "colab": {
          "base_uri": "https://localhost:8080/"
        },
        "outputId": "2dc3419f-c917-4ded-d13c-289dde77f7b1"
      },
      "source": [
        "# Now that you have found best parameters,\n",
        "# train a final model using train set and validate it with test and holdout sets\n",
        "\n",
        "# YOUR CODE\n",
        "\n",
        "best_params = {\n",
        "            \"min_samples_split\": 10,\n",
        "            \"max_depth\": None,\n",
        "            \"min_samples_leaf\": 3,\n",
        "            \"max_leaf_nodes\": 99\n",
        "\n",
        "        }\n",
        "\n",
        "best_exp = experiment(exp_name=\"Decision Tree\", model=DecisionTreeRegressor, params= best_params)\n",
        "\n",
        "print(best_exp)\n"
      ],
      "execution_count": null,
      "outputs": [
        {
          "output_type": "stream",
          "text": [
            "Decision Tree\n",
            "Train:  2015-01-04 00:00:00  /  2015-03-10 00:00:00 ------- Test:  2015-03-10 01:00:00  /  2015-05-13 21:00:00\n",
            "Train:  2015-01-04 00:00:00  /  2015-05-13 21:00:00 ------- Test:  2015-05-13 22:00:00  /  2015-07-17 20:00:00\n",
            "Train:  2015-01-04 00:00:00  /  2015-07-17 20:00:00 ------- Test:  2015-07-17 21:00:00  /  2015-09-21 02:00:00\n",
            "Train:  2015-01-04 00:00:00  /  2015-09-21 02:00:00 ------- Test:  2015-09-21 03:00:00  /  2015-11-25 09:00:00\n",
            "Train:  2015-01-04 00:00:00  /  2015-11-25 09:00:00 ------- Test:  2015-11-25 10:00:00  /  2016-02-12 14:00:00\n",
            "Train:  2015-01-04 00:00:00  /  2016-02-12 14:00:00 ------- Test:  2016-02-12 15:00:00  /  2016-04-17 22:00:00\n",
            "Train:  2015-01-04 00:00:00  /  2016-04-17 22:00:00 ------- Test:  2016-04-17 23:00:00  /  2016-06-21 13:00:00\n",
            "Train:  2015-01-04 00:00:00  /  2016-06-21 13:00:00 ------- Test:  2016-06-21 14:00:00  /  2016-08-26 02:00:00\n",
            "Train:  2015-01-04 00:00:00  /  2016-08-26 02:00:00 ------- Test:  2016-08-26 03:00:00  /  2016-10-31 07:00:00\n",
            "Train:  2015-01-04 00:00:00  /  2016-10-31 07:00:00 ------- Test:  2016-10-31 08:00:00  /  2017-01-03 23:00:00\n",
            "Mean of scores:  0.909173834621295\n",
            "Std of scores:  0.028963196933724185\n",
            "[0.863092351012793, 0.8978840376550753, 0.9222758505682055, 0.905332083629045, 0.9094067218893316, 0.9401472513947573, 0.9238821385206348, 0.9428650567858357, 0.9330779225533953, 0.8537749322038762]\n"
          ],
          "name": "stdout"
        }
      ]
    },
    {
      "cell_type": "code",
      "metadata": {
        "id": "lj3BGls856Nz"
      },
      "source": [
        "# Print number of nodes and max depth of your tree model\n",
        "\n",
        "# YOUR CODE\n"
      ],
      "execution_count": null,
      "outputs": []
    },
    {
      "cell_type": "code",
      "metadata": {
        "id": "imM4r6DM56N0",
        "colab": {
          "base_uri": "https://localhost:8080/",
          "height": 295
        },
        "outputId": "ba02c0e5-13e2-468a-d3d5-d2ad16e907d4"
      },
      "source": [
        "# Use a bar plot to visualize feature importances of model\n",
        "\n",
        "# YOUR CODE\n",
        "\n",
        "plt.barh(features,model.feature_importances_)\n",
        "plt.title('Feature Importances')\n",
        "plt.ylabel('Feature Names')\n",
        "plt.xlabel('Importance Level')\n",
        "plt.show()"
      ],
      "execution_count": null,
      "outputs": [
        {
          "output_type": "display_data",
          "data": {
            "image/png": "[encoded data removed]",
            "text/plain": [
              "<Figure size 432x288 with 1 Axes>"
            ]
          },
          "metadata": {
            "tags": [],
            "needs_background": "light"
          }
        }
      ]
    },
    {
      "cell_type": "code",
      "metadata": {
        "id": "5hrKVNKY56N2",
        "colab": {
          "base_uri": "https://localhost:8080/",
          "height": 614
        },
        "outputId": "d1d986b7-5e28-46f6-b624-81880537793e"
      },
      "source": [
        "# Use a scatter to plot actual vs predicted values\n",
        "\n",
        "# YOUR CODE\n",
        "plt.figure(figsize=(10,10))\n",
        "plt.scatter(y_test, y_pred, c='crimson')\n",
        "plt.yscale('log')\n",
        "plt.xscale('log')\n",
        "\n",
        "p1 = max(max(y_pred), max(y_test))\n",
        "p2 = min(min(y_pred), min(y_test))\n",
        "plt.plot([p1, p2], [p1, p2], 'b-')\n",
        "plt.xlabel('True Values', fontsize=15)\n",
        "plt.ylabel('Predictions', fontsize=15)\n",
        "plt.axis('equal')\n",
        "plt.show()"
      ],
      "execution_count": null,
      "outputs": [
        {
          "output_type": "display_data",
          "data": {
            "image/png": "[encoded data removed]",
            "text/plain": [
              "<Figure size 720x720 with 1 Axes>"
            ]
          },
          "metadata": {
            "tags": [],
            "needs_background": "light"
          }
        }
      ]
    },
    {
      "cell_type": "code",
      "metadata": {
        "id": "9ln-br5y56N4",
        "colab": {
          "base_uri": "https://localhost:8080/",
          "height": 295
        },
        "outputId": "5034853a-743f-4083-f88a-ebc8843199ef"
      },
      "source": [
        "# Visualize residual vs fitted value\n",
        "\n",
        "\n",
        "plot_lm_1 = plt.figure()\n",
        "plot_lm_1.axes[0] = sns.residplot(y_pred, y_test,\n",
        "                          lowess=True,\n",
        "                          scatter_kws={'alpha': 0.5},\n",
        "                          line_kws={'color': 'red', 'lw': 1, 'alpha': 0.8})\n",
        "\n",
        "plot_lm_1.axes[0].set_title('Residuals vs Fitted')\n",
        "plot_lm_1.axes[0].set_xlabel('Fitted values')\n",
        "plot_lm_1.axes[0].set_ylabel('Residuals');"
      ],
      "execution_count": null,
      "outputs": [
        {
          "output_type": "display_data",
          "data": {
            "image/png": "[encoded data removed]",
            "text/plain": [
              "<Figure size 432x288 with 1 Axes>"
            ]
          },
          "metadata": {
            "tags": [],
            "needs_background": "light"
          }
        }
      ]
    },
    {
      "cell_type": "code",
      "metadata": {
        "id": "D7aH-YXC56N4"
      },
      "source": [
        "# Compare decision tree test results with linear regression test results. Which one performed better? Why\n",
        "\n",
        "#DECISION TREE REGRESSOR GET BETTER RESULTS BECAUSE, LINEAR REGRESSION CAN ONLY SUPPORT LINEAR RELATIONS.\n",
        "#ON THE OTHER HAND DECISION TREE REGRESSOR CAN SUPPORT NON-LINEAR RELATIONS.\n",
        "\n"
      ],
      "execution_count": null,
      "outputs": []
    },
    {
      "cell_type": "markdown",
      "metadata": {
        "id": "2FscwIks56N4"
      },
      "source": [
        "# Part 4  LightGBM Gradient boosted decision tree regressor\n"
      ]
    },
    {
      "cell_type": "code",
      "metadata": {
        "id": "_GP9wFtI56N4"
      },
      "source": [
        "# Do the same steps above with LightGBM regressor\n",
        "from lightgbm import LGBMRegressor"
      ],
      "execution_count": null,
      "outputs": []
    },
    {
      "cell_type": "code",
      "metadata": {
        "id": "zRMvwtO456N4",
        "colab": {
          "base_uri": "https://localhost:8080/"
        },
        "outputId": "c7f515e5-bd29-45a3-97a4-797cf6666fe2"
      },
      "source": [
        "# Model tuning\n",
        "lgmb_model=LGBMRegressor\n",
        "\n",
        "exp1 = experiment(exp_name=\"Lgbm\", model=lgmb_model, params=None)\n",
        "\n",
        "print(exp1)\n",
        "\n",
        "\n",
        "\n",
        "\n",
        "# Automated hyper parameter search\n",
        "grid_params = {'n_estimators': [8, 24],\n",
        "                   'num_leaves': [6, 8, 12, 16], 'boosting_type': ['gbdt','dart'],\n",
        "                   'seed': [500],\n",
        "                   'colsample_bytree': [0.65, 0.75, 0.8],\n",
        "                   'subsample': [0.7, 0.75], 'reg_alpha': [1, 2, 6],\n",
        "                   'reg_lambda': [1, 2, 6]}\n",
        "\n",
        "mod = lgb.LGBMRegressor()\n",
        "\n",
        "\n",
        "\n",
        "\n",
        "#random_search = RandomizedSearchCV(lgmb_model, grid_params)\n",
        "#random_search.fit(X2, y2)\n",
        "\n",
        "grid = GridSearchCV(mod, param_grid=grid_params, verbose=1, cv=5, n_jobs=-1)\n",
        "grid.fit(X, y)\n",
        "y_pred=grid.predict(X_test)\n",
        "\n",
        "# Train final model\n",
        "\n",
        "# Validate and visualize model\n",
        "\n"
      ],
      "execution_count": null,
      "outputs": [
        {
          "output_type": "stream",
          "text": [
            "Lgbm\n",
            "Train:  2015-01-04 00:00:00  /  2015-03-10 00:00:00 ------- Test:  2015-03-10 01:00:00  /  2015-05-13 21:00:00\n",
            "Train:  2015-01-04 00:00:00  /  2015-05-13 21:00:00 ------- Test:  2015-05-13 22:00:00  /  2015-07-17 20:00:00\n",
            "Train:  2015-01-04 00:00:00  /  2015-07-17 20:00:00 ------- Test:  2015-07-17 21:00:00  /  2015-09-21 02:00:00\n",
            "Train:  2015-01-04 00:00:00  /  2015-09-21 02:00:00 ------- Test:  2015-09-21 03:00:00  /  2015-11-25 09:00:00\n",
            "Train:  2015-01-04 00:00:00  /  2015-11-25 09:00:00 ------- Test:  2015-11-25 10:00:00  /  2016-02-12 14:00:00\n",
            "Train:  2015-01-04 00:00:00  /  2016-02-12 14:00:00 ------- Test:  2016-02-12 15:00:00  /  2016-04-17 22:00:00\n",
            "Train:  2015-01-04 00:00:00  /  2016-04-17 22:00:00 ------- Test:  2016-04-17 23:00:00  /  2016-06-21 13:00:00\n",
            "Train:  2015-01-04 00:00:00  /  2016-06-21 13:00:00 ------- Test:  2016-06-21 14:00:00  /  2016-08-26 02:00:00\n",
            "Train:  2015-01-04 00:00:00  /  2016-08-26 02:00:00 ------- Test:  2016-08-26 03:00:00  /  2016-10-31 07:00:00\n",
            "Train:  2015-01-04 00:00:00  /  2016-10-31 07:00:00 ------- Test:  2016-10-31 08:00:00  /  2017-01-03 23:00:00\n",
            "Mean of scores:  0.9422108656172922\n",
            "Std of scores:  0.024635566990726193\n",
            "[0.9153773352181384, 0.9158794819541166, 0.948394465535946, 0.9422580659264338, 0.961057456599859, 0.961117517657098, 0.954224981513173, 0.971549521495983, 0.9606374169007295, 0.8916124133714451]\n",
            "Fitting 5 folds for each of 864 candidates, totalling 4320 fits\n"
          ],
          "name": "stdout"
        },
        {
          "output_type": "stream",
          "text": [
            "[Parallel(n_jobs=-1)]: Using backend LokyBackend with 2 concurrent workers.\n",
            "[Parallel(n_jobs=-1)]: Done 116 tasks      | elapsed:    4.2s\n",
            "[Parallel(n_jobs=-1)]: Done 716 tasks      | elapsed:   22.4s\n",
            "[Parallel(n_jobs=-1)]: Done 1716 tasks      | elapsed:   51.2s\n",
            "[Parallel(n_jobs=-1)]: Done 3116 tasks      | elapsed:  1.6min\n",
            "[Parallel(n_jobs=-1)]: Done 4320 out of 4320 | elapsed:  2.3min finished\n"
          ],
          "name": "stderr"
        }
      ]
    },
    {
      "cell_type": "code",
      "metadata": {
        "colab": {
          "base_uri": "https://localhost:8080/"
        },
        "id": "ulwX2IziRgn3",
        "outputId": "6045fcf9-7910-4969-de97-d3c7b3ee5807"
      },
      "source": [
        "print(grid.best_params_)\n"
      ],
      "execution_count": null,
      "outputs": [
        {
          "output_type": "stream",
          "text": [
            "{'boosting_type': 'gbdt', 'colsample_bytree': 0.75, 'n_estimators': 24, 'num_leaves': 16, 'reg_alpha': 6, 'reg_lambda': 1, 'seed': 500, 'subsample': 0.7}\n"
          ],
          "name": "stdout"
        }
      ]
    },
    {
      "cell_type": "code",
      "metadata": {
        "id": "8bBQ03UBRziP"
      },
      "source": [
        "best_params_lgbm={'boosting_type': 'gbdt', 'colsample_bytree': 0.75, 'learning_rate': 0.01, 'n_estimators': 24, 'num_leaves': 16, 'reg_alpha': 1, 'reg_lambda': 1, 'seed': 500, 'subsample': 0.7}"
      ],
      "execution_count": null,
      "outputs": []
    },
    {
      "cell_type": "code",
      "metadata": {
        "colab": {
          "base_uri": "https://localhost:8080/"
        },
        "id": "585rdbLOR5iL",
        "outputId": "74c5ef8b-5b5c-4c7a-f1e6-2719b54c8505"
      },
      "source": [
        "exp1_best= experiment(exp_name=\"Lgbm\", model=lgmb_model, params=best_params_lgbm)\n",
        "\n",
        "print(exp1_best)"
      ],
      "execution_count": null,
      "outputs": [
        {
          "output_type": "stream",
          "text": [
            "Lgbm\n",
            "Train:  2015-01-04 00:00:00  /  2015-03-10 00:00:00 ------- Test:  2015-03-10 01:00:00  /  2015-05-13 21:00:00\n",
            "Train:  2015-01-04 00:00:00  /  2015-05-13 21:00:00 ------- Test:  2015-05-13 22:00:00  /  2015-07-17 20:00:00\n",
            "Train:  2015-01-04 00:00:00  /  2015-07-17 20:00:00 ------- Test:  2015-07-17 21:00:00  /  2015-09-21 02:00:00\n",
            "Train:  2015-01-04 00:00:00  /  2015-09-21 02:00:00 ------- Test:  2015-09-21 03:00:00  /  2015-11-25 09:00:00\n",
            "Train:  2015-01-04 00:00:00  /  2015-11-25 09:00:00 ------- Test:  2015-11-25 10:00:00  /  2016-02-12 14:00:00\n",
            "Train:  2015-01-04 00:00:00  /  2016-02-12 14:00:00 ------- Test:  2016-02-12 15:00:00  /  2016-04-17 22:00:00\n",
            "Train:  2015-01-04 00:00:00  /  2016-04-17 22:00:00 ------- Test:  2016-04-17 23:00:00  /  2016-06-21 13:00:00\n",
            "Train:  2015-01-04 00:00:00  /  2016-06-21 13:00:00 ------- Test:  2016-06-21 14:00:00  /  2016-08-26 02:00:00\n",
            "Train:  2015-01-04 00:00:00  /  2016-08-26 02:00:00 ------- Test:  2016-08-26 03:00:00  /  2016-10-31 07:00:00\n",
            "Train:  2015-01-04 00:00:00  /  2016-10-31 07:00:00 ------- Test:  2016-10-31 08:00:00  /  2017-01-03 23:00:00\n",
            "Mean of scores:  0.23907891910433107\n",
            "Std of scores:  0.03251597154744065\n",
            "[0.21733825811247576, 0.1648518629601904, 0.25772476988416915, 0.28085257504474326, 0.2430376116156553, 0.2670327063943727, 0.26001126444097566, 0.20852241664807525, 0.2566862275310181, 0.23473149841163532]\n"
          ],
          "name": "stdout"
        }
      ]
    },
    {
      "cell_type": "code",
      "metadata": {
        "id": "8iPoTNp6VWJP"
      },
      "source": [],
      "execution_count": null,
      "outputs": []
    },
    {
      "cell_type": "code",
      "metadata": {
        "id": "Bh5Erp7F56N5"
      },
      "source": [
        "# Compare boosted tree with previous two estimators and comment on results\n",
        "\n",
        "# your comments\n",
        "#Without any parameters lightgbm has the best scores comparing to other classifiers. (0.94)\n",
        "#However with the parameters defined in grid, scores has somehow lowered to 0.23 even with the best parameters.\n"
      ],
      "execution_count": null,
      "outputs": []
    }
  ]
}