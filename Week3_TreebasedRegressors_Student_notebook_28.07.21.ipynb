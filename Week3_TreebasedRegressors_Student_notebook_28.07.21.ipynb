{
  "nbformat": 4,
  "nbformat_minor": 0,
  "metadata": {
    "kernelspec": {
      "display_name": "Python 3",
      "language": "python",
      "name": "python3"
    },
    "language_info": {
      "codemirror_mode": {
        "name": "ipython",
        "version": 3
      },
      "file_extension": ".py",
      "mimetype": "text/x-python",
      "name": "python",
      "nbconvert_exporter": "python",
      "pygments_lexer": "ipython3",
      "version": "3.7.7"
    },
    "colab": {
      "name": "Week3_TreebasedRegressors Student notebook.ipynb",
      "provenance": [],
      "collapsed_sections": []
    }
  },
  "cells": [
    {
      "cell_type": "markdown",
      "metadata": {
        "id": "Fd3N3hNS56Ne"
      },
      "source": [
        "# <font color='red'>Model Building And Validation</font>\n",
        "## <font color='blue'>Session-3 Decision Tree Regressor and LGBM Regressor Examples</font>\n",
        "### <font color='blue'>Part-1 Preperations</font>\n",
        "\n",
        "### We will continue to use London bike rental data for today's regression tasks.\n",
        "\n",
        "### Our goal is to build tree based models and compare them with the linear regression model we've built before."
      ]
    },
    {
      "cell_type": "code",
      "metadata": {
        "id": "zLvXB1KH56Ni"
      },
      "source": [
        "import numpy as np\n",
        "import pandas as pd\n",
        "\n",
        "from sklearn import linear_model\n",
        "from sklearn.metrics import mean_squared_error, r2_score, mean_absolute_error, explained_variance_score\n",
        "from sklearn.model_selection import train_test_split\n",
        "\n",
        "import matplotlib.pyplot as plt\n",
        "import seaborn as sns\n",
        "import random\n",
        "\n",
        "import lightgbm as lgb\n",
        "from sklearn.model_selection import cross_val_score, cross_val_predict\n",
        "from sklearn.metrics import mean_squared_log_error\n",
        "from sklearn import metrics\n",
        "\n",
        "from sklearn.tree import DecisionTreeRegressor\n",
        "from sklearn.metrics import r2_score\n",
        "from sklearn.model_selection import KFold, ShuffleSplit, RepeatedKFold, TimeSeriesSplit, GridSearchCV, RandomizedSearchCV\n",
        "\n",
        "import warnings\n",
        "warnings.filterwarnings(\"ignore\")\n",
        "\n"
      ],
      "execution_count": 1,
      "outputs": []
    },
    {
      "cell_type": "code",
      "metadata": {
        "id": "Mub78H5P56Nj"
      },
      "source": [
        "def log_transform(s, reverse=False):\n",
        "    if reverse:\n",
        "        return np.exp(s)-1\n",
        "    else:\n",
        "        return np.log(s+1)\n",
        "\n",
        "\n",
        "def ansc_transform(s, reverse=False):\n",
        "    if reverse:\n",
        "        return ((s/2)**2)-0.375\n",
        "    else:\n",
        "        return np.sqrt(s+0.375)*2\n",
        "\n",
        "\n",
        "def no_transform(s, reverse=False):\n",
        "    return s\n",
        "\n",
        "\n",
        "def frmn_transform(s, reverse=False):\n",
        "    if reverse:\n",
        "        return (s/2)**2\n",
        "    else:\n",
        "        return np.sqrt(s+1)+np.sqrt(s)\n",
        "\n",
        "\n",
        "transforms = {'none':no_transform, 'log': log_transform, 'anscombe': ansc_transform, 'freeman': frmn_transform}\n",
        "    \n",
        "def transform_target(df, method):\n",
        "    target = 'target_'+method\n",
        "    df[target] = transforms[method](df['cnt'])\n",
        "    return df, target\n",
        "\n",
        "\n",
        "def add_commute(df, features, ordinal=False):\n",
        "    if not ordinal:\n",
        "        df['commute'] = (df['is_weekend']==0) & df['timeofday'].isin([7,8,9,17,18])\n",
        "        features.append('commute')\n",
        "    else:\n",
        "        df['commute'] = 0\n",
        "        df.loc[((df['is_weekend']==0) & df['timeofday'].isin([7,9,16,19])),'commute'] = 1\n",
        "        df.loc[((df['is_weekend']==0) & df['timeofday'].isin([17,18])),'commute'] = 2\n",
        "        df.loc[((df['is_weekend']==0) & df['timeofday'].isin([8])),'commute'] = 3\n",
        "\n",
        "    features.append('commute')\n",
        "    return df, features\n",
        "\n",
        "\n",
        "\n",
        "def add_sleeptime(df, features):\n",
        "    df['sleeptime'] = (df['timeofday'].isin([0,1,2,3,4,5,23]))\n",
        "    features.append('sleeptime')\n",
        "    return df, features\n",
        "\n",
        "\n",
        "\n",
        "def encode_timeofday(source, dataframes, features):\n",
        "    print('target mean encoding;')\n",
        "    for df in dataframes:\n",
        "        df['tmc_tod'] = 0\n",
        "    for tod in range(24):\n",
        "        val = source.loc[source['timeofday']==tod, 'cnt'].mean()\n",
        "        for df in dataframes:\n",
        "            df.loc[df['timeofday']==tod, 'tmc_tod'] = val\n",
        "    features.remove('timeofday')\n",
        "    features.append('tmc_tod')\n",
        "    return dataframes, features\n",
        "        \n",
        "    \n",
        "\n",
        "def eliminate_outliers(df):\n",
        "    df['outlier'] = 0\n",
        "    df.loc[df['cnt']>5600,'outlier'] = 1\n",
        "    df.iloc[8382:8720].outlier = 1\n",
        "    df = df[df['outlier']==0]\n",
        "    df.reset_index(drop=True,inplace=True)\n",
        "    return df\n",
        "    \n",
        "\n",
        "def split_oot(df, ratio):\n",
        "    L = len(df)\n",
        "    split_index = int(L*ratio)\n",
        "    train = df.iloc[:split_index]\n",
        "    test = df.iloc[split_index:]\n",
        "    print(train.shape, test.shape)\n",
        "    return train, test\n",
        "\n",
        "def split_oos(df, ratio):\n",
        "    return train_test_split(df, test_size=(1-ratio), random_state=42)\n",
        "\n",
        "\n",
        "def split_data(df, split=\"oot\", ratio=0.7):\n",
        "    splits = {'oot':split_oot, 'oos':split_oos}    \n",
        "    train, test = splits[split](df, ratio)\n",
        "    return train, test\n",
        "    \n",
        "    \n",
        "def preprocess(df, encode_weather=True, encode_season=True, commute=True, sleep=True, elim_outliers=True):\n",
        "    features = ['t1', 'hum', 'weather_code', 'wind_speed', \"season\", 'is_holiday', 'is_weekend']\n",
        "\n",
        "    df['timeofday'] = pd.to_datetime(df['timestamp']).dt.hour\n",
        "    features.append('timeofday')\n",
        "    if commute:\n",
        "        df, features = add_commute(df, features, True)\n",
        "    if sleep:\n",
        "        df, features = add_sleeptime(df, features)\n",
        "                       \n",
        "    if encode_weather:\n",
        "        df['wc_1'] = df.weather_code==1\n",
        "        df['wc_2'] = df.weather_code==2\n",
        "        df['wc_3'] = df.weather_code==3\n",
        "        df['wc_4'] = df.weather_code==4\n",
        "        df['wc_7'] = df.weather_code==7\n",
        "        df['wc_10'] = df.weather_code==10\n",
        "        #df['wc_26'] = df.weather_code==26\n",
        "        features.remove('weather_code')\n",
        "        features.extend(['wc_1', 'wc_2', 'wc_3', 'wc_4', 'wc_7', 'wc_10'])\n",
        "\n",
        "    if encode_season:\n",
        "        df['s_0'] = df.season==0\n",
        "        df['s_1'] = df.season==1\n",
        "        df['s_2'] = df.season==2\n",
        "        #df['s_3'] = df.season==3\n",
        "\n",
        "        features.remove('season')\n",
        "        features.extend(['s_0','s_1', 's_2'])\n",
        "    \n",
        "    if elim_outliers:\n",
        "        df = eliminate_outliers(df)\n",
        "    \n",
        "    \n",
        "    return df, features\n",
        "\n"
      ],
      "execution_count": 2,
      "outputs": []
    },
    {
      "cell_type": "markdown",
      "metadata": {
        "id": "KOeZHlWD56Nl"
      },
      "source": [
        "# OOS vs OOT split\n"
      ]
    },
    {
      "cell_type": "code",
      "metadata": {
        "colab": {
          "base_uri": "https://localhost:8080/"
        },
        "id": "Mz0aZHYy56Np",
        "outputId": "81af00c6-7ebd-44d4-b72f-5ee60d188aeb"
      },
      "source": [
        "#choose a transform\n",
        "transform = 'none'\n",
        "\n",
        "df = pd.read_csv('bikes_london.csv')\n",
        "df, target = transform_target(df, transform)\n",
        "df, features = preprocess(df)\n",
        "\n",
        "# seperate the dataset over time in two as a workset (first %80) and a holdout set (last %20)\n",
        "# this holdout set will serve as a final validation set to measure between different approaches \n",
        "workset , holdout = split_oot(df, 0.8)\n",
        "# YOUR CODE\n",
        "\n"
      ],
      "execution_count": 8,
      "outputs": [
        {
          "output_type": "stream",
          "text": [
            "(13655, 24) (3414, 24)\n"
          ],
          "name": "stdout"
        }
      ]
    },
    {
      "cell_type": "code",
      "metadata": {
        "colab": {
          "base_uri": "https://localhost:8080/",
          "height": 779
        },
        "id": "pxsWDoPaEd7K",
        "outputId": "36386cb2-cc4d-4a39-d466-8beb2b5ce3e0"
      },
      "source": [
        "workset"
      ],
      "execution_count": 11,
      "outputs": [
        {
          "output_type": "execute_result",
          "data": {
            "text/html": [
              "<div>\n",
              "<style scoped>\n",
              "    .dataframe tbody tr th:only-of-type {\n",
              "        vertical-align: middle;\n",
              "    }\n",
              "\n",
              "    .dataframe tbody tr th {\n",
              "        vertical-align: top;\n",
              "    }\n",
              "\n",
              "    .dataframe thead th {\n",
              "        text-align: right;\n",
              "    }\n",
              "</style>\n",
              "<table border=\"1\" class=\"dataframe\">\n",
              "  <thead>\n",
              "    <tr style=\"text-align: right;\">\n",
              "      <th></th>\n",
              "      <th>timestamp</th>\n",
              "      <th>cnt</th>\n",
              "      <th>t1</th>\n",
              "      <th>t2</th>\n",
              "      <th>hum</th>\n",
              "      <th>wind_speed</th>\n",
              "      <th>weather_code</th>\n",
              "      <th>is_holiday</th>\n",
              "      <th>is_weekend</th>\n",
              "      <th>season</th>\n",
              "      <th>target_none</th>\n",
              "      <th>timeofday</th>\n",
              "      <th>commute</th>\n",
              "      <th>sleeptime</th>\n",
              "      <th>wc_1</th>\n",
              "      <th>wc_2</th>\n",
              "      <th>wc_3</th>\n",
              "      <th>wc_4</th>\n",
              "      <th>wc_7</th>\n",
              "      <th>wc_10</th>\n",
              "      <th>s_0</th>\n",
              "      <th>s_1</th>\n",
              "      <th>s_2</th>\n",
              "      <th>outlier</th>\n",
              "    </tr>\n",
              "  </thead>\n",
              "  <tbody>\n",
              "    <tr>\n",
              "      <th>0</th>\n",
              "      <td>2015-01-04 00:00:00</td>\n",
              "      <td>182</td>\n",
              "      <td>3.0</td>\n",
              "      <td>2.0</td>\n",
              "      <td>93.0</td>\n",
              "      <td>6.0</td>\n",
              "      <td>3.0</td>\n",
              "      <td>0.0</td>\n",
              "      <td>1.0</td>\n",
              "      <td>3.0</td>\n",
              "      <td>182</td>\n",
              "      <td>0</td>\n",
              "      <td>0</td>\n",
              "      <td>True</td>\n",
              "      <td>False</td>\n",
              "      <td>False</td>\n",
              "      <td>True</td>\n",
              "      <td>False</td>\n",
              "      <td>False</td>\n",
              "      <td>False</td>\n",
              "      <td>False</td>\n",
              "      <td>False</td>\n",
              "      <td>False</td>\n",
              "      <td>0</td>\n",
              "    </tr>\n",
              "    <tr>\n",
              "      <th>1</th>\n",
              "      <td>2015-01-04 01:00:00</td>\n",
              "      <td>138</td>\n",
              "      <td>3.0</td>\n",
              "      <td>2.5</td>\n",
              "      <td>93.0</td>\n",
              "      <td>5.0</td>\n",
              "      <td>1.0</td>\n",
              "      <td>0.0</td>\n",
              "      <td>1.0</td>\n",
              "      <td>3.0</td>\n",
              "      <td>138</td>\n",
              "      <td>1</td>\n",
              "      <td>0</td>\n",
              "      <td>True</td>\n",
              "      <td>True</td>\n",
              "      <td>False</td>\n",
              "      <td>False</td>\n",
              "      <td>False</td>\n",
              "      <td>False</td>\n",
              "      <td>False</td>\n",
              "      <td>False</td>\n",
              "      <td>False</td>\n",
              "      <td>False</td>\n",
              "      <td>0</td>\n",
              "    </tr>\n",
              "    <tr>\n",
              "      <th>2</th>\n",
              "      <td>2015-01-04 02:00:00</td>\n",
              "      <td>134</td>\n",
              "      <td>2.5</td>\n",
              "      <td>2.5</td>\n",
              "      <td>96.5</td>\n",
              "      <td>0.0</td>\n",
              "      <td>1.0</td>\n",
              "      <td>0.0</td>\n",
              "      <td>1.0</td>\n",
              "      <td>3.0</td>\n",
              "      <td>134</td>\n",
              "      <td>2</td>\n",
              "      <td>0</td>\n",
              "      <td>True</td>\n",
              "      <td>True</td>\n",
              "      <td>False</td>\n",
              "      <td>False</td>\n",
              "      <td>False</td>\n",
              "      <td>False</td>\n",
              "      <td>False</td>\n",
              "      <td>False</td>\n",
              "      <td>False</td>\n",
              "      <td>False</td>\n",
              "      <td>0</td>\n",
              "    </tr>\n",
              "    <tr>\n",
              "      <th>3</th>\n",
              "      <td>2015-01-04 03:00:00</td>\n",
              "      <td>72</td>\n",
              "      <td>2.0</td>\n",
              "      <td>2.0</td>\n",
              "      <td>100.0</td>\n",
              "      <td>0.0</td>\n",
              "      <td>1.0</td>\n",
              "      <td>0.0</td>\n",
              "      <td>1.0</td>\n",
              "      <td>3.0</td>\n",
              "      <td>72</td>\n",
              "      <td>3</td>\n",
              "      <td>0</td>\n",
              "      <td>True</td>\n",
              "      <td>True</td>\n",
              "      <td>False</td>\n",
              "      <td>False</td>\n",
              "      <td>False</td>\n",
              "      <td>False</td>\n",
              "      <td>False</td>\n",
              "      <td>False</td>\n",
              "      <td>False</td>\n",
              "      <td>False</td>\n",
              "      <td>0</td>\n",
              "    </tr>\n",
              "    <tr>\n",
              "      <th>4</th>\n",
              "      <td>2015-01-04 04:00:00</td>\n",
              "      <td>47</td>\n",
              "      <td>2.0</td>\n",
              "      <td>0.0</td>\n",
              "      <td>93.0</td>\n",
              "      <td>6.5</td>\n",
              "      <td>1.0</td>\n",
              "      <td>0.0</td>\n",
              "      <td>1.0</td>\n",
              "      <td>3.0</td>\n",
              "      <td>47</td>\n",
              "      <td>4</td>\n",
              "      <td>0</td>\n",
              "      <td>True</td>\n",
              "      <td>True</td>\n",
              "      <td>False</td>\n",
              "      <td>False</td>\n",
              "      <td>False</td>\n",
              "      <td>False</td>\n",
              "      <td>False</td>\n",
              "      <td>False</td>\n",
              "      <td>False</td>\n",
              "      <td>False</td>\n",
              "      <td>0</td>\n",
              "    </tr>\n",
              "    <tr>\n",
              "      <th>...</th>\n",
              "      <td>...</td>\n",
              "      <td>...</td>\n",
              "      <td>...</td>\n",
              "      <td>...</td>\n",
              "      <td>...</td>\n",
              "      <td>...</td>\n",
              "      <td>...</td>\n",
              "      <td>...</td>\n",
              "      <td>...</td>\n",
              "      <td>...</td>\n",
              "      <td>...</td>\n",
              "      <td>...</td>\n",
              "      <td>...</td>\n",
              "      <td>...</td>\n",
              "      <td>...</td>\n",
              "      <td>...</td>\n",
              "      <td>...</td>\n",
              "      <td>...</td>\n",
              "      <td>...</td>\n",
              "      <td>...</td>\n",
              "      <td>...</td>\n",
              "      <td>...</td>\n",
              "      <td>...</td>\n",
              "      <td>...</td>\n",
              "    </tr>\n",
              "    <tr>\n",
              "      <th>13650</th>\n",
              "      <td>2016-08-12 19:00:00</td>\n",
              "      <td>2619</td>\n",
              "      <td>24.5</td>\n",
              "      <td>24.5</td>\n",
              "      <td>47.0</td>\n",
              "      <td>26.0</td>\n",
              "      <td>1.0</td>\n",
              "      <td>0.0</td>\n",
              "      <td>0.0</td>\n",
              "      <td>1.0</td>\n",
              "      <td>2619</td>\n",
              "      <td>19</td>\n",
              "      <td>1</td>\n",
              "      <td>False</td>\n",
              "      <td>True</td>\n",
              "      <td>False</td>\n",
              "      <td>False</td>\n",
              "      <td>False</td>\n",
              "      <td>False</td>\n",
              "      <td>False</td>\n",
              "      <td>False</td>\n",
              "      <td>True</td>\n",
              "      <td>False</td>\n",
              "      <td>0</td>\n",
              "    </tr>\n",
              "    <tr>\n",
              "      <th>13651</th>\n",
              "      <td>2016-08-12 20:00:00</td>\n",
              "      <td>1902</td>\n",
              "      <td>22.0</td>\n",
              "      <td>22.0</td>\n",
              "      <td>56.5</td>\n",
              "      <td>27.0</td>\n",
              "      <td>1.0</td>\n",
              "      <td>0.0</td>\n",
              "      <td>0.0</td>\n",
              "      <td>1.0</td>\n",
              "      <td>1902</td>\n",
              "      <td>20</td>\n",
              "      <td>0</td>\n",
              "      <td>False</td>\n",
              "      <td>True</td>\n",
              "      <td>False</td>\n",
              "      <td>False</td>\n",
              "      <td>False</td>\n",
              "      <td>False</td>\n",
              "      <td>False</td>\n",
              "      <td>False</td>\n",
              "      <td>True</td>\n",
              "      <td>False</td>\n",
              "      <td>0</td>\n",
              "    </tr>\n",
              "    <tr>\n",
              "      <th>13652</th>\n",
              "      <td>2016-08-12 21:00:00</td>\n",
              "      <td>1212</td>\n",
              "      <td>19.5</td>\n",
              "      <td>19.5</td>\n",
              "      <td>62.0</td>\n",
              "      <td>30.0</td>\n",
              "      <td>1.0</td>\n",
              "      <td>0.0</td>\n",
              "      <td>0.0</td>\n",
              "      <td>1.0</td>\n",
              "      <td>1212</td>\n",
              "      <td>21</td>\n",
              "      <td>0</td>\n",
              "      <td>False</td>\n",
              "      <td>True</td>\n",
              "      <td>False</td>\n",
              "      <td>False</td>\n",
              "      <td>False</td>\n",
              "      <td>False</td>\n",
              "      <td>False</td>\n",
              "      <td>False</td>\n",
              "      <td>True</td>\n",
              "      <td>False</td>\n",
              "      <td>0</td>\n",
              "    </tr>\n",
              "    <tr>\n",
              "      <th>13653</th>\n",
              "      <td>2016-08-12 22:00:00</td>\n",
              "      <td>1004</td>\n",
              "      <td>18.5</td>\n",
              "      <td>18.5</td>\n",
              "      <td>64.0</td>\n",
              "      <td>27.0</td>\n",
              "      <td>1.0</td>\n",
              "      <td>0.0</td>\n",
              "      <td>0.0</td>\n",
              "      <td>1.0</td>\n",
              "      <td>1004</td>\n",
              "      <td>22</td>\n",
              "      <td>0</td>\n",
              "      <td>False</td>\n",
              "      <td>True</td>\n",
              "      <td>False</td>\n",
              "      <td>False</td>\n",
              "      <td>False</td>\n",
              "      <td>False</td>\n",
              "      <td>False</td>\n",
              "      <td>False</td>\n",
              "      <td>True</td>\n",
              "      <td>False</td>\n",
              "      <td>0</td>\n",
              "    </tr>\n",
              "    <tr>\n",
              "      <th>13654</th>\n",
              "      <td>2016-08-12 23:00:00</td>\n",
              "      <td>798</td>\n",
              "      <td>18.0</td>\n",
              "      <td>18.0</td>\n",
              "      <td>66.0</td>\n",
              "      <td>22.5</td>\n",
              "      <td>1.0</td>\n",
              "      <td>0.0</td>\n",
              "      <td>0.0</td>\n",
              "      <td>1.0</td>\n",
              "      <td>798</td>\n",
              "      <td>23</td>\n",
              "      <td>0</td>\n",
              "      <td>True</td>\n",
              "      <td>True</td>\n",
              "      <td>False</td>\n",
              "      <td>False</td>\n",
              "      <td>False</td>\n",
              "      <td>False</td>\n",
              "      <td>False</td>\n",
              "      <td>False</td>\n",
              "      <td>True</td>\n",
              "      <td>False</td>\n",
              "      <td>0</td>\n",
              "    </tr>\n",
              "  </tbody>\n",
              "</table>\n",
              "<p>13655 rows × 24 columns</p>\n",
              "</div>"
            ],
            "text/plain": [
              "                 timestamp   cnt    t1    t2  ...    s_0    s_1    s_2  outlier\n",
              "0      2015-01-04 00:00:00   182   3.0   2.0  ...  False  False  False        0\n",
              "1      2015-01-04 01:00:00   138   3.0   2.5  ...  False  False  False        0\n",
              "2      2015-01-04 02:00:00   134   2.5   2.5  ...  False  False  False        0\n",
              "3      2015-01-04 03:00:00    72   2.0   2.0  ...  False  False  False        0\n",
              "4      2015-01-04 04:00:00    47   2.0   0.0  ...  False  False  False        0\n",
              "...                    ...   ...   ...   ...  ...    ...    ...    ...      ...\n",
              "13650  2016-08-12 19:00:00  2619  24.5  24.5  ...  False   True  False        0\n",
              "13651  2016-08-12 20:00:00  1902  22.0  22.0  ...  False   True  False        0\n",
              "13652  2016-08-12 21:00:00  1212  19.5  19.5  ...  False   True  False        0\n",
              "13653  2016-08-12 22:00:00  1004  18.5  18.5  ...  False   True  False        0\n",
              "13654  2016-08-12 23:00:00   798  18.0  18.0  ...  False   True  False        0\n",
              "\n",
              "[13655 rows x 24 columns]"
            ]
          },
          "metadata": {
            "tags": []
          },
          "execution_count": 11
        }
      ]
    },
    {
      "cell_type": "code",
      "metadata": {
        "id": "ET-UvIRI56Np"
      },
      "source": [
        "# With our workset, lets try a Out of sample split of 75/25 \n",
        "workset_oos_train, workset_oos_test = split_oos(workset, 0.75)\n",
        "X = workset_oos_train[features]\n",
        "y = workset_oos_train['cnt']\n",
        "# Train a decision tree regressor using train test\n",
        "regressor = DecisionTreeRegressor(random_state=0)\n",
        "\n",
        "# Evaluate model with test set\n",
        "model = regressor.fit(X,y)\n"
      ],
      "execution_count": 15,
      "outputs": []
    },
    {
      "cell_type": "code",
      "metadata": {
        "colab": {
          "base_uri": "https://localhost:8080/",
          "height": 419
        },
        "id": "FEnKZus3EoiE",
        "outputId": "05688447-7ac7-403e-d863-bd55e570dada"
      },
      "source": [
        "X"
      ],
      "execution_count": 13,
      "outputs": [
        {
          "output_type": "execute_result",
          "data": {
            "text/html": [
              "<div>\n",
              "<style scoped>\n",
              "    .dataframe tbody tr th:only-of-type {\n",
              "        vertical-align: middle;\n",
              "    }\n",
              "\n",
              "    .dataframe tbody tr th {\n",
              "        vertical-align: top;\n",
              "    }\n",
              "\n",
              "    .dataframe thead th {\n",
              "        text-align: right;\n",
              "    }\n",
              "</style>\n",
              "<table border=\"1\" class=\"dataframe\">\n",
              "  <thead>\n",
              "    <tr style=\"text-align: right;\">\n",
              "      <th></th>\n",
              "      <th>t1</th>\n",
              "      <th>hum</th>\n",
              "      <th>wind_speed</th>\n",
              "      <th>is_holiday</th>\n",
              "      <th>is_weekend</th>\n",
              "      <th>timeofday</th>\n",
              "      <th>commute</th>\n",
              "      <th>sleeptime</th>\n",
              "      <th>wc_1</th>\n",
              "      <th>wc_2</th>\n",
              "      <th>wc_3</th>\n",
              "      <th>wc_4</th>\n",
              "      <th>wc_7</th>\n",
              "      <th>wc_10</th>\n",
              "      <th>s_0</th>\n",
              "      <th>s_1</th>\n",
              "      <th>s_2</th>\n",
              "    </tr>\n",
              "  </thead>\n",
              "  <tbody>\n",
              "    <tr>\n",
              "      <th>1845</th>\n",
              "      <td>6.0</td>\n",
              "      <td>78.5</td>\n",
              "      <td>13.0</td>\n",
              "      <td>0.0</td>\n",
              "      <td>1.0</td>\n",
              "      <td>23</td>\n",
              "      <td>0</td>\n",
              "      <td>True</td>\n",
              "      <td>False</td>\n",
              "      <td>False</td>\n",
              "      <td>True</td>\n",
              "      <td>False</td>\n",
              "      <td>False</td>\n",
              "      <td>False</td>\n",
              "      <td>True</td>\n",
              "      <td>False</td>\n",
              "      <td>False</td>\n",
              "    </tr>\n",
              "    <tr>\n",
              "      <th>8794</th>\n",
              "      <td>6.5</td>\n",
              "      <td>66.0</td>\n",
              "      <td>15.0</td>\n",
              "      <td>0.0</td>\n",
              "      <td>0.0</td>\n",
              "      <td>16</td>\n",
              "      <td>1</td>\n",
              "      <td>False</td>\n",
              "      <td>True</td>\n",
              "      <td>False</td>\n",
              "      <td>False</td>\n",
              "      <td>False</td>\n",
              "      <td>False</td>\n",
              "      <td>False</td>\n",
              "      <td>False</td>\n",
              "      <td>False</td>\n",
              "      <td>False</td>\n",
              "    </tr>\n",
              "    <tr>\n",
              "      <th>111</th>\n",
              "      <td>9.0</td>\n",
              "      <td>71.0</td>\n",
              "      <td>19.5</td>\n",
              "      <td>0.0</td>\n",
              "      <td>0.0</td>\n",
              "      <td>16</td>\n",
              "      <td>1</td>\n",
              "      <td>False</td>\n",
              "      <td>False</td>\n",
              "      <td>True</td>\n",
              "      <td>False</td>\n",
              "      <td>False</td>\n",
              "      <td>False</td>\n",
              "      <td>False</td>\n",
              "      <td>False</td>\n",
              "      <td>False</td>\n",
              "      <td>False</td>\n",
              "    </tr>\n",
              "    <tr>\n",
              "      <th>472</th>\n",
              "      <td>4.0</td>\n",
              "      <td>75.0</td>\n",
              "      <td>14.0</td>\n",
              "      <td>0.0</td>\n",
              "      <td>0.0</td>\n",
              "      <td>17</td>\n",
              "      <td>2</td>\n",
              "      <td>False</td>\n",
              "      <td>True</td>\n",
              "      <td>False</td>\n",
              "      <td>False</td>\n",
              "      <td>False</td>\n",
              "      <td>False</td>\n",
              "      <td>False</td>\n",
              "      <td>False</td>\n",
              "      <td>False</td>\n",
              "      <td>False</td>\n",
              "    </tr>\n",
              "    <tr>\n",
              "      <th>6906</th>\n",
              "      <td>9.0</td>\n",
              "      <td>90.5</td>\n",
              "      <td>6.0</td>\n",
              "      <td>0.0</td>\n",
              "      <td>0.0</td>\n",
              "      <td>8</td>\n",
              "      <td>3</td>\n",
              "      <td>False</td>\n",
              "      <td>False</td>\n",
              "      <td>False</td>\n",
              "      <td>True</td>\n",
              "      <td>False</td>\n",
              "      <td>False</td>\n",
              "      <td>False</td>\n",
              "      <td>False</td>\n",
              "      <td>False</td>\n",
              "      <td>True</td>\n",
              "    </tr>\n",
              "    <tr>\n",
              "      <th>...</th>\n",
              "      <td>...</td>\n",
              "      <td>...</td>\n",
              "      <td>...</td>\n",
              "      <td>...</td>\n",
              "      <td>...</td>\n",
              "      <td>...</td>\n",
              "      <td>...</td>\n",
              "      <td>...</td>\n",
              "      <td>...</td>\n",
              "      <td>...</td>\n",
              "      <td>...</td>\n",
              "      <td>...</td>\n",
              "      <td>...</td>\n",
              "      <td>...</td>\n",
              "      <td>...</td>\n",
              "      <td>...</td>\n",
              "      <td>...</td>\n",
              "    </tr>\n",
              "    <tr>\n",
              "      <th>5191</th>\n",
              "      <td>16.0</td>\n",
              "      <td>77.0</td>\n",
              "      <td>8.0</td>\n",
              "      <td>0.0</td>\n",
              "      <td>1.0</td>\n",
              "      <td>5</td>\n",
              "      <td>0</td>\n",
              "      <td>True</td>\n",
              "      <td>True</td>\n",
              "      <td>False</td>\n",
              "      <td>False</td>\n",
              "      <td>False</td>\n",
              "      <td>False</td>\n",
              "      <td>False</td>\n",
              "      <td>False</td>\n",
              "      <td>True</td>\n",
              "      <td>False</td>\n",
              "    </tr>\n",
              "    <tr>\n",
              "      <th>13418</th>\n",
              "      <td>20.0</td>\n",
              "      <td>83.0</td>\n",
              "      <td>23.0</td>\n",
              "      <td>0.0</td>\n",
              "      <td>0.0</td>\n",
              "      <td>2</td>\n",
              "      <td>0</td>\n",
              "      <td>True</td>\n",
              "      <td>False</td>\n",
              "      <td>False</td>\n",
              "      <td>False</td>\n",
              "      <td>True</td>\n",
              "      <td>False</td>\n",
              "      <td>False</td>\n",
              "      <td>False</td>\n",
              "      <td>True</td>\n",
              "      <td>False</td>\n",
              "    </tr>\n",
              "    <tr>\n",
              "      <th>5390</th>\n",
              "      <td>19.5</td>\n",
              "      <td>40.0</td>\n",
              "      <td>13.0</td>\n",
              "      <td>0.0</td>\n",
              "      <td>0.0</td>\n",
              "      <td>12</td>\n",
              "      <td>0</td>\n",
              "      <td>False</td>\n",
              "      <td>True</td>\n",
              "      <td>False</td>\n",
              "      <td>False</td>\n",
              "      <td>False</td>\n",
              "      <td>False</td>\n",
              "      <td>False</td>\n",
              "      <td>False</td>\n",
              "      <td>True</td>\n",
              "      <td>False</td>\n",
              "    </tr>\n",
              "    <tr>\n",
              "      <th>860</th>\n",
              "      <td>5.0</td>\n",
              "      <td>78.5</td>\n",
              "      <td>14.0</td>\n",
              "      <td>0.0</td>\n",
              "      <td>1.0</td>\n",
              "      <td>21</td>\n",
              "      <td>0</td>\n",
              "      <td>False</td>\n",
              "      <td>True</td>\n",
              "      <td>False</td>\n",
              "      <td>False</td>\n",
              "      <td>False</td>\n",
              "      <td>False</td>\n",
              "      <td>False</td>\n",
              "      <td>False</td>\n",
              "      <td>False</td>\n",
              "      <td>False</td>\n",
              "    </tr>\n",
              "    <tr>\n",
              "      <th>7270</th>\n",
              "      <td>15.0</td>\n",
              "      <td>77.0</td>\n",
              "      <td>12.0</td>\n",
              "      <td>0.0</td>\n",
              "      <td>0.0</td>\n",
              "      <td>13</td>\n",
              "      <td>0</td>\n",
              "      <td>False</td>\n",
              "      <td>False</td>\n",
              "      <td>False</td>\n",
              "      <td>False</td>\n",
              "      <td>False</td>\n",
              "      <td>True</td>\n",
              "      <td>False</td>\n",
              "      <td>False</td>\n",
              "      <td>False</td>\n",
              "      <td>True</td>\n",
              "    </tr>\n",
              "  </tbody>\n",
              "</table>\n",
              "<p>10241 rows × 17 columns</p>\n",
              "</div>"
            ],
            "text/plain": [
              "         t1   hum  wind_speed  is_holiday  ...  wc_10    s_0    s_1    s_2\n",
              "1845    6.0  78.5        13.0         0.0  ...  False   True  False  False\n",
              "8794    6.5  66.0        15.0         0.0  ...  False  False  False  False\n",
              "111     9.0  71.0        19.5         0.0  ...  False  False  False  False\n",
              "472     4.0  75.0        14.0         0.0  ...  False  False  False  False\n",
              "6906    9.0  90.5         6.0         0.0  ...  False  False  False   True\n",
              "...     ...   ...         ...         ...  ...    ...    ...    ...    ...\n",
              "5191   16.0  77.0         8.0         0.0  ...  False  False   True  False\n",
              "13418  20.0  83.0        23.0         0.0  ...  False  False   True  False\n",
              "5390   19.5  40.0        13.0         0.0  ...  False  False   True  False\n",
              "860     5.0  78.5        14.0         0.0  ...  False  False  False  False\n",
              "7270   15.0  77.0        12.0         0.0  ...  False  False  False   True\n",
              "\n",
              "[10241 rows x 17 columns]"
            ]
          },
          "metadata": {
            "tags": []
          },
          "execution_count": 13
        }
      ]
    },
    {
      "cell_type": "code",
      "metadata": {
        "colab": {
          "base_uri": "https://localhost:8080/"
        },
        "id": "dOR_3oCL56Nr",
        "outputId": "15cdb70e-47df-4260-ab01-50d5c4e0c8eb"
      },
      "source": [
        "# Now try a Out of time split 75/25 with same workset\n",
        "workset_oot_train, workset_oot_test = split_oot(workset, 0.75)\n",
        "X2 = workset_oot_train[features]\n",
        "y2 = workset_oot_train['cnt']\n",
        "\n",
        "# Train a decision tree regressor using train test\n",
        "regressor2 = DecisionTreeRegressor(random_state=1)\n",
        "\n",
        "# Evaluate model with test set\n",
        "model2 = regressor2.fit(X2,y2)\n"
      ],
      "execution_count": 16,
      "outputs": [
        {
          "output_type": "stream",
          "text": [
            "(10241, 24) (3414, 24)\n"
          ],
          "name": "stdout"
        }
      ]
    },
    {
      "cell_type": "code",
      "metadata": {
        "id": "wzDMxZNQ56Nr"
      },
      "source": [
        "# Now evaluate both models against the holdout set\n",
        "\n",
        "X_test = workset_oos_test[features]\n",
        "y_test = workset_oos_test['cnt']\n",
        "# YOUR CODE\n",
        "y_pred = model.predict(X_test)\n"
      ],
      "execution_count": 22,
      "outputs": []
    },
    {
      "cell_type": "code",
      "metadata": {
        "colab": {
          "base_uri": "https://localhost:8080/"
        },
        "id": "MwpkniITHaN0",
        "outputId": "30036839-51d4-49ce-c902-aee078806159"
      },
      "source": [
        "result = r2_score(y_test, y_pred)\n",
        "result"
      ],
      "execution_count": 21,
      "outputs": [
        {
          "output_type": "execute_result",
          "data": {
            "text/plain": [
              "0.9248341692277744"
            ]
          },
          "metadata": {
            "tags": []
          },
          "execution_count": 21
        }
      ]
    },
    {
      "cell_type": "code",
      "metadata": {
        "id": "rbTzUSs6I0F_"
      },
      "source": [
        "X2_test = workset_oot_test[features]\n",
        "y2_test = workset_oot_test['cnt']\n",
        "# YOUR CODE\n",
        "y_pred2 = model.predict(X2_test)"
      ],
      "execution_count": 23,
      "outputs": []
    },
    {
      "cell_type": "code",
      "metadata": {
        "colab": {
          "base_uri": "https://localhost:8080/"
        },
        "id": "mbJj3XVuI8Uw",
        "outputId": "bceb60ad-96d5-40d3-c0d9-2f0c54b8a3b7"
      },
      "source": [
        "result2 = r2_score(y2_test, y_pred2)\n",
        "result2"
      ],
      "execution_count": 24,
      "outputs": [
        {
          "output_type": "execute_result",
          "data": {
            "text/plain": [
              "0.9797240239199992"
            ]
          },
          "metadata": {
            "tags": []
          },
          "execution_count": 24
        }
      ]
    },
    {
      "cell_type": "code",
      "metadata": {
        "id": "fUkGVKXSP2Bz"
      },
      "source": [
        "X_holdout = holdout[features]\n",
        "y_holdout = holdout['cnt']\n",
        "# YOUR CODE\n",
        "holdout_pred = model.predict(X_holdout)\n",
        "holdout_pred2 = model2.predict(X_holdout)"
      ],
      "execution_count": 47,
      "outputs": []
    },
    {
      "cell_type": "code",
      "metadata": {
        "colab": {
          "base_uri": "https://localhost:8080/"
        },
        "id": "xnFhHfj4QmGH",
        "outputId": "65f6effc-2cf3-4f98-b28d-c5e5aabdadaf"
      },
      "source": [
        "result_h = r2_score(y_holdout, holdout_pred)\n",
        "result_h"
      ],
      "execution_count": 49,
      "outputs": [
        {
          "output_type": "execute_result",
          "data": {
            "text/plain": [
              "0.8679677004696437"
            ]
          },
          "metadata": {
            "tags": []
          },
          "execution_count": 49
        }
      ]
    },
    {
      "cell_type": "code",
      "metadata": {
        "colab": {
          "base_uri": "https://localhost:8080/"
        },
        "id": "VQ8-EO_lQXvM",
        "outputId": "783b1f87-cca8-4e78-f968-5eb7230b9197"
      },
      "source": [
        "result_h2 = r2_score(y_holdout, holdout_pred2)\n",
        "result_h2"
      ],
      "execution_count": 50,
      "outputs": [
        {
          "output_type": "execute_result",
          "data": {
            "text/plain": [
              "0.8663001666081771"
            ]
          },
          "metadata": {
            "tags": []
          },
          "execution_count": 50
        }
      ]
    },
    {
      "cell_type": "markdown",
      "metadata": {
        "id": "eObL73xrRjfO"
      },
      "source": [
        "ilk başta workset zaman gore ilk %80 lık kısım olaak sekılde veri seti 2 ye bolundu.\n",
        "Workset verı setı kendı ıcınde traın ve test olacak sekılde %75 oranında olacak sekılde oot ve oos methodlarıyle ıkıye ayrıldı. sonrasında decısıon tree modelı kulanarak ıkı farklı methodla ayrılan traın datasetlerı kullanılarak tahmınleme calısması yapıldı. Bunların test performanslarında zamana gore ayrılan model daha ıyı sonuc verdıgı goruldu(oot). Ancak holdout verı setı ıle bu egıtılen modellerın tahmınleme performanslarına bakıldıgında oot daha kotu performans gosterdı. Bunun nedenı rastgele secılen datasetının holdout verı etıne daha yakın zamandakı verılerı ıcermesı etkılı olmus olabılır dıye dusunuyoruz."
      ]
    },
    {
      "cell_type": "code",
      "metadata": {
        "id": "xM5CKPc-56Ns"
      },
      "source": [
        "# Comment on your observations\n",
        "When dataset was occured via oot split method, the model result gets higher number due to the timeline period.\n",
        "Oos method has slightly lower result because of the using dataset which comes from mixture time preiod. \n",
        "# Your comments\n",
        "\n"
      ],
      "execution_count": null,
      "outputs": []
    },
    {
      "cell_type": "markdown",
      "metadata": {
        "id": "gOE0SEFr56Ns"
      },
      "source": [
        "# Model Selection"
      ]
    },
    {
      "cell_type": "code",
      "metadata": {
        "id": "5x6sEz1o56Ns"
      },
      "source": [
        "\n",
        "def Apply_CrossValidation(model, split_choice, data, features, target, metric = 'MSE', params=None):\n",
        "    \n",
        "    if split_choice == 'oot':\n",
        "        fold = TimeSeriesSplit(max_train_size=None, n_splits=10)\n",
        "        \n",
        "        results = []  \n",
        "        for i_train, i_test in fold.split(data):\n",
        "            \n",
        "            X_train, Y_train = data.iloc[i_train][features], data.iloc[i_train][target]\n",
        "            X_test, Y_test = data.iloc[i_test][features], data.iloc[i_test][target]\n",
        "\n",
        "            regr = model() if params is None else model(**params)\n",
        "            fold_model = regr.fit(X_train, Y_train)\n",
        "\n",
        "            pred = fold_model.predict(X_test)\n",
        "\n",
        "            if metric == 'MSE':\n",
        "                result = mean_squared_error(Y_test, pred)\n",
        "            elif metric == 'MAE':\n",
        "                result = mean_absolute_error(Y_test, pred)\n",
        "            elif metric == 'R2':\n",
        "                result = r2_score(Y_test, pred)\n",
        "            else:\n",
        "                result = (mean_squared_error(Y_test, pred)**0.5)\n",
        "\n",
        "            results.append(result)\n",
        "\n",
        "            print(\"Train: \", data.iloc[i_train][\"timestamp\"].min(), ' / ', data.iloc[i_train][\"timestamp\"].max(),\n",
        "                 \"------- Test: \", data.iloc[i_test][\"timestamp\"].min(), ' / ', data.iloc[i_test][\"timestamp\"].max())\n",
        "\n",
        "        print('Mean of scores: ', np.mean(results)) \n",
        "        print('Std of scores: ', np.std(results)) \n",
        "\n",
        "        return results           \n",
        "        \n",
        "        \n",
        "    elif split_choice == 'tbs': #time based random sampling\n",
        "        train, test = split_oot(data, 0.7)\n",
        "        \n",
        "        results = []\n",
        "        for d in [ 1,  2,  3,  4,  5,  6,  7,  8,  9, 10]:\n",
        "            tr_fold = train.sample(frac = 0.5, random_state = d)\n",
        "            test_fold = test.sample(frac = 0.5, random_state = d)\n",
        "\n",
        "            regr = model() if params is None else model(**params)\n",
        "            fold_model = regr.fit(tr_fold[features], tr_fold[target])\n",
        "\n",
        "            pred = fold_model.predict(test_fold[features])\n",
        "\n",
        "            if metric == 'MSE':\n",
        "                result = mean_squared_error(test_fold[target], pred)\n",
        "            elif metric == 'MAE':\n",
        "                result = mean_absolute_error(test_fold[target], pred)\n",
        "            elif metric == 'R2':\n",
        "                result = r2_score(test_fold[target], pred)\n",
        "            else:\n",
        "                result = (mean_squared_error(test_fold[target], pred)**0.5)\n",
        "\n",
        "            results.append(result)\n",
        "\n",
        "            print(\"Train: \", tr_fold[\"timestamp\"].min(), ' / ', tr_fold[\"timestamp\"].max(),\n",
        "                 \"------- Test: \", test_fold[\"timestamp\"].min(), ' / ', test_fold[\"timestamp\"].max())\n",
        "\n",
        "        print('Mean of scores: ', np.mean(results)) \n",
        "        print('Std of scores: ', np.std(results))  \n",
        "        \n",
        "        return results   \n",
        "    \n",
        "    \n",
        "def experiment(exp_name, model, params):\n",
        "    # Let's keep these as constant between model experiments\n",
        "    transform='freeman' # 'none', 'log', 'anscombe', 'freeman'\n",
        "    split_choice='oot' # 'oot', 'tbs' (time based random split)\n",
        "    metric='R2' # 'MSE', 'MAE', 'R2'\n",
        "    encode_weather=True\n",
        "    encode_season=True\n",
        "    commute=False\n",
        "    sleep=True\n",
        "    elim_outliers=True\n",
        "\n",
        "    df = pd.read_csv('bikes_london.csv')\n",
        "    df, target = transform_target(df, transform)\n",
        "    df, features = preprocess(df, encode_weather, encode_season, commute, \n",
        "               sleep, elim_outliers)\n",
        "    print(exp_name)\n",
        "    results = Apply_CrossValidation(model=model, params=params, split_choice=split_choice, \n",
        "                                    data=df, features=features, target=target, metric=metric)\n",
        "    return results\n",
        "\n"
      ],
      "execution_count": 44,
      "outputs": []
    },
    {
      "cell_type": "code",
      "metadata": {
        "id": "tE-nhBxd56Nt",
        "outputId": "d168618b-38b1-4d8d-82f8-60825446e1b6"
      },
      "source": [
        "exp1 = experiment(exp_name=\"Linear regression\", model=linear_model.LinearRegression, params=None)\n",
        "\n",
        "print(exp1)"
      ],
      "execution_count": null,
      "outputs": [
        {
          "output_type": "stream",
          "text": [
            "Linear regression\n",
            "Train:  2015-01-04 00:00:00  /  2015-03-10 00:00:00 ------- Test:  2015-03-10 01:00:00  /  2015-05-13 21:00:00\n",
            "Train:  2015-01-04 00:00:00  /  2015-05-13 21:00:00 ------- Test:  2015-05-13 22:00:00  /  2015-07-17 20:00:00\n",
            "Train:  2015-01-04 00:00:00  /  2015-07-17 20:00:00 ------- Test:  2015-07-17 21:00:00  /  2015-09-21 02:00:00\n",
            "Train:  2015-01-04 00:00:00  /  2015-09-21 02:00:00 ------- Test:  2015-09-21 03:00:00  /  2015-11-25 09:00:00\n",
            "Train:  2015-01-04 00:00:00  /  2015-11-25 09:00:00 ------- Test:  2015-11-25 10:00:00  /  2016-02-12 14:00:00\n",
            "Train:  2015-01-04 00:00:00  /  2016-02-12 14:00:00 ------- Test:  2016-02-12 15:00:00  /  2016-04-17 22:00:00\n",
            "Train:  2015-01-04 00:00:00  /  2016-04-17 22:00:00 ------- Test:  2016-04-17 23:00:00  /  2016-06-21 13:00:00\n",
            "Train:  2015-01-04 00:00:00  /  2016-06-21 13:00:00 ------- Test:  2016-06-21 14:00:00  /  2016-08-26 02:00:00\n",
            "Train:  2015-01-04 00:00:00  /  2016-08-26 02:00:00 ------- Test:  2016-08-26 03:00:00  /  2016-10-31 07:00:00\n",
            "Train:  2015-01-04 00:00:00  /  2016-10-31 07:00:00 ------- Test:  2016-10-31 08:00:00  /  2017-01-03 23:00:00\n",
            "Mean of scores:  0.5860528617855861\n",
            "Std of scores:  0.04286012727526901\n",
            "[0.5997407465462856, 0.6331937501798941, 0.6276360538112198, 0.5509140071810545, 0.5227838437198024, 0.5670392879315067, 0.6112880132536477, 0.6413440782314599, 0.5906557304047761, 0.5159331065962127]\n"
          ],
          "name": "stdout"
        }
      ]
    },
    {
      "cell_type": "code",
      "metadata": {
        "colab": {
          "base_uri": "https://localhost:8080/"
        },
        "id": "xR22ShWw56Nu",
        "outputId": "53d6d209-544a-436b-98f2-053869178584"
      },
      "source": [
        "\n",
        "exp2 = experiment(exp_name=\"Decision Tree\", model=DecisionTreeRegressor, params= None)\n",
        "\n",
        "print(exp2)"
      ],
      "execution_count": 28,
      "outputs": [
        {
          "output_type": "stream",
          "text": [
            "Decision Tree\n",
            "Train:  2015-01-04 00:00:00  /  2015-03-10 00:00:00 ------- Test:  2015-03-10 01:00:00  /  2015-05-13 21:00:00\n",
            "Train:  2015-01-04 00:00:00  /  2015-05-13 21:00:00 ------- Test:  2015-05-13 22:00:00  /  2015-07-17 20:00:00\n",
            "Train:  2015-01-04 00:00:00  /  2015-07-17 20:00:00 ------- Test:  2015-07-17 21:00:00  /  2015-09-21 02:00:00\n",
            "Train:  2015-01-04 00:00:00  /  2015-09-21 02:00:00 ------- Test:  2015-09-21 03:00:00  /  2015-11-25 09:00:00\n",
            "Train:  2015-01-04 00:00:00  /  2015-11-25 09:00:00 ------- Test:  2015-11-25 10:00:00  /  2016-02-12 14:00:00\n",
            "Train:  2015-01-04 00:00:00  /  2016-02-12 14:00:00 ------- Test:  2016-02-12 15:00:00  /  2016-04-17 22:00:00\n",
            "Train:  2015-01-04 00:00:00  /  2016-04-17 22:00:00 ------- Test:  2016-04-17 23:00:00  /  2016-06-21 13:00:00\n",
            "Train:  2015-01-04 00:00:00  /  2016-06-21 13:00:00 ------- Test:  2016-06-21 14:00:00  /  2016-08-26 02:00:00\n",
            "Train:  2015-01-04 00:00:00  /  2016-08-26 02:00:00 ------- Test:  2016-08-26 03:00:00  /  2016-10-31 07:00:00\n",
            "Train:  2015-01-04 00:00:00  /  2016-10-31 07:00:00 ------- Test:  2016-10-31 08:00:00  /  2017-01-03 23:00:00\n",
            "Mean of scores:  0.9034550102501265\n",
            "Std of scores:  0.029440512737904267\n",
            "[0.8702009666505549, 0.9061217029091355, 0.9081030610892422, 0.9095841579415098, 0.8999844204106396, 0.9319266032492961, 0.9060288364573594, 0.9314809842600393, 0.9367460240508515, 0.8343733454826378]\n"
          ],
          "name": "stdout"
        }
      ]
    },
    {
      "cell_type": "code",
      "metadata": {
        "id": "Ni1V2IO956Nu"
      },
      "source": [
        "# Compare these two models and select the better model\n",
        "Decision tree get higher results .....\n",
        "# YOUR CODE HERE\n",
        "\n"
      ],
      "execution_count": null,
      "outputs": []
    },
    {
      "cell_type": "code",
      "metadata": {
        "id": "4QgCAl2A56Nu"
      },
      "source": [
        "# Comments On selection\n"
      ],
      "execution_count": null,
      "outputs": []
    },
    {
      "cell_type": "markdown",
      "metadata": {
        "id": "wVwLb6Wl56Nv"
      },
      "source": [
        "# Model Tuning"
      ]
    },
    {
      "cell_type": "code",
      "metadata": {
        "colab": {
          "base_uri": "https://localhost:8080/"
        },
        "id": "S585T1c_Md88",
        "outputId": "5f496882-f53f-4abf-dd03-4e1057df1b5b"
      },
      "source": [
        "exp3 = experiment(exp_name=\"Decision Tree\", model=DecisionTreeRegressor, params= params)\n",
        "\n",
        "print(exp3)"
      ],
      "execution_count": 45,
      "outputs": [
        {
          "output_type": "stream",
          "text": [
            "Decision Tree\n",
            "Train:  2015-01-04 00:00:00  /  2015-03-10 00:00:00 ------- Test:  2015-03-10 01:00:00  /  2015-05-13 21:00:00\n",
            "Train:  2015-01-04 00:00:00  /  2015-05-13 21:00:00 ------- Test:  2015-05-13 22:00:00  /  2015-07-17 20:00:00\n",
            "Train:  2015-01-04 00:00:00  /  2015-07-17 20:00:00 ------- Test:  2015-07-17 21:00:00  /  2015-09-21 02:00:00\n",
            "Train:  2015-01-04 00:00:00  /  2015-09-21 02:00:00 ------- Test:  2015-09-21 03:00:00  /  2015-11-25 09:00:00\n",
            "Train:  2015-01-04 00:00:00  /  2015-11-25 09:00:00 ------- Test:  2015-11-25 10:00:00  /  2016-02-12 14:00:00\n",
            "Train:  2015-01-04 00:00:00  /  2016-02-12 14:00:00 ------- Test:  2016-02-12 15:00:00  /  2016-04-17 22:00:00\n",
            "Train:  2015-01-04 00:00:00  /  2016-04-17 22:00:00 ------- Test:  2016-04-17 23:00:00  /  2016-06-21 13:00:00\n",
            "Train:  2015-01-04 00:00:00  /  2016-06-21 13:00:00 ------- Test:  2016-06-21 14:00:00  /  2016-08-26 02:00:00\n",
            "Train:  2015-01-04 00:00:00  /  2016-08-26 02:00:00 ------- Test:  2016-08-26 03:00:00  /  2016-10-31 07:00:00\n",
            "Train:  2015-01-04 00:00:00  /  2016-10-31 07:00:00 ------- Test:  2016-10-31 08:00:00  /  2017-01-03 23:00:00\n",
            "Mean of scores:  0.6415005477358633\n",
            "Std of scores:  0.09709249918953522\n",
            "[0.4269240463759463, 0.5263450681121085, 0.618840453244138, 0.6283695727217078, 0.628104132292671, 0.6672501523750767, 0.7017913380706838, 0.7488641890409238, 0.7573596467116159, 0.7111568784137605]\n"
          ],
          "name": "stdout"
        }
      ]
    },
    {
      "cell_type": "code",
      "metadata": {
        "colab": {
          "base_uri": "https://localhost:8080/"
        },
        "id": "BuJm9WnsTuQX",
        "outputId": "6d0fc3e4-222d-4df6-ccc2-47f8446b99e9"
      },
      "source": [
        "exp4 = experiment(exp_name=\"Decision Tree\", model=DecisionTreeRegressor, params= params1)\n",
        "\n",
        "print(exp4)"
      ],
      "execution_count": 76,
      "outputs": [
        {
          "output_type": "stream",
          "text": [
            "Decision Tree\n",
            "Train:  2015-01-04 00:00:00  /  2015-03-10 00:00:00 ------- Test:  2015-03-10 01:00:00  /  2015-05-13 21:00:00\n",
            "Train:  2015-01-04 00:00:00  /  2015-05-13 21:00:00 ------- Test:  2015-05-13 22:00:00  /  2015-07-17 20:00:00\n",
            "Train:  2015-01-04 00:00:00  /  2015-07-17 20:00:00 ------- Test:  2015-07-17 21:00:00  /  2015-09-21 02:00:00\n",
            "Train:  2015-01-04 00:00:00  /  2015-09-21 02:00:00 ------- Test:  2015-09-21 03:00:00  /  2015-11-25 09:00:00\n",
            "Train:  2015-01-04 00:00:00  /  2015-11-25 09:00:00 ------- Test:  2015-11-25 10:00:00  /  2016-02-12 14:00:00\n",
            "Train:  2015-01-04 00:00:00  /  2016-02-12 14:00:00 ------- Test:  2016-02-12 15:00:00  /  2016-04-17 22:00:00\n",
            "Train:  2015-01-04 00:00:00  /  2016-04-17 22:00:00 ------- Test:  2016-04-17 23:00:00  /  2016-06-21 13:00:00\n",
            "Train:  2015-01-04 00:00:00  /  2016-06-21 13:00:00 ------- Test:  2016-06-21 14:00:00  /  2016-08-26 02:00:00\n",
            "Train:  2015-01-04 00:00:00  /  2016-08-26 02:00:00 ------- Test:  2016-08-26 03:00:00  /  2016-10-31 07:00:00\n",
            "Train:  2015-01-04 00:00:00  /  2016-10-31 07:00:00 ------- Test:  2016-10-31 08:00:00  /  2017-01-03 23:00:00\n",
            "Mean of scores:  0.9131379899219085\n",
            "Std of scores:  0.029515255066186012\n",
            "[0.8723925431826995, 0.8946980552110232, 0.9253147551898095, 0.9027218504686304, 0.9170813754685954, 0.9223550627072246, 0.9352354496522413, 0.9552222936683155, 0.9473169211514003, 0.8590415925191462]\n"
          ],
          "name": "stdout"
        }
      ]
    },
    {
      "cell_type": "code",
      "metadata": {
        "colab": {
          "base_uri": "https://localhost:8080/"
        },
        "id": "jRzJJ5AJTw9D",
        "outputId": "7b623801-6532-495d-ba6d-e4f3fe1cbcff"
      },
      "source": [
        "exp5 = experiment(exp_name=\"Decision Tree\", model=DecisionTreeRegressor, params= params2)\n",
        "\n",
        "print(exp5)"
      ],
      "execution_count": 78,
      "outputs": [
        {
          "output_type": "stream",
          "text": [
            "Decision Tree\n",
            "Train:  2015-01-04 00:00:00  /  2015-03-10 00:00:00 ------- Test:  2015-03-10 01:00:00  /  2015-05-13 21:00:00\n",
            "Train:  2015-01-04 00:00:00  /  2015-05-13 21:00:00 ------- Test:  2015-05-13 22:00:00  /  2015-07-17 20:00:00\n",
            "Train:  2015-01-04 00:00:00  /  2015-07-17 20:00:00 ------- Test:  2015-07-17 21:00:00  /  2015-09-21 02:00:00\n",
            "Train:  2015-01-04 00:00:00  /  2015-09-21 02:00:00 ------- Test:  2015-09-21 03:00:00  /  2015-11-25 09:00:00\n",
            "Train:  2015-01-04 00:00:00  /  2015-11-25 09:00:00 ------- Test:  2015-11-25 10:00:00  /  2016-02-12 14:00:00\n",
            "Train:  2015-01-04 00:00:00  /  2016-02-12 14:00:00 ------- Test:  2016-02-12 15:00:00  /  2016-04-17 22:00:00\n",
            "Train:  2015-01-04 00:00:00  /  2016-04-17 22:00:00 ------- Test:  2016-04-17 23:00:00  /  2016-06-21 13:00:00\n",
            "Train:  2015-01-04 00:00:00  /  2016-06-21 13:00:00 ------- Test:  2016-06-21 14:00:00  /  2016-08-26 02:00:00\n",
            "Train:  2015-01-04 00:00:00  /  2016-08-26 02:00:00 ------- Test:  2016-08-26 03:00:00  /  2016-10-31 07:00:00\n",
            "Train:  2015-01-04 00:00:00  /  2016-10-31 07:00:00 ------- Test:  2016-10-31 08:00:00  /  2017-01-03 23:00:00\n",
            "Mean of scores:  0.9096918721517951\n",
            "Std of scores:  0.03015653496150454\n",
            "[0.8677308308633741, 0.8878793529998409, 0.9235635272385976, 0.8948562051297647, 0.9139646056580514, 0.9229625576619239, 0.933320705399462, 0.9551221952804366, 0.9399266431788088, 0.8575920981076907]\n"
          ],
          "name": "stdout"
        }
      ]
    },
    {
      "cell_type": "code",
      "metadata": {
        "colab": {
          "base_uri": "https://localhost:8080/"
        },
        "id": "U8hIBjsLTyxK",
        "outputId": "1f03054a-12ef-4ff7-cc69-7e29fc66ab0d"
      },
      "source": [
        "exp6 = experiment(exp_name=\"Decision Tree\", model=DecisionTreeRegressor, params= params3)\n",
        "\n",
        "print(exp6)"
      ],
      "execution_count": 82,
      "outputs": [
        {
          "output_type": "stream",
          "text": [
            "Decision Tree\n",
            "Train:  2015-01-04 00:00:00  /  2015-03-10 00:00:00 ------- Test:  2015-03-10 01:00:00  /  2015-05-13 21:00:00\n",
            "Train:  2015-01-04 00:00:00  /  2015-05-13 21:00:00 ------- Test:  2015-05-13 22:00:00  /  2015-07-17 20:00:00\n",
            "Train:  2015-01-04 00:00:00  /  2015-07-17 20:00:00 ------- Test:  2015-07-17 21:00:00  /  2015-09-21 02:00:00\n",
            "Train:  2015-01-04 00:00:00  /  2015-09-21 02:00:00 ------- Test:  2015-09-21 03:00:00  /  2015-11-25 09:00:00\n",
            "Train:  2015-01-04 00:00:00  /  2015-11-25 09:00:00 ------- Test:  2015-11-25 10:00:00  /  2016-02-12 14:00:00\n",
            "Train:  2015-01-04 00:00:00  /  2016-02-12 14:00:00 ------- Test:  2016-02-12 15:00:00  /  2016-04-17 22:00:00\n",
            "Train:  2015-01-04 00:00:00  /  2016-04-17 22:00:00 ------- Test:  2016-04-17 23:00:00  /  2016-06-21 13:00:00\n",
            "Train:  2015-01-04 00:00:00  /  2016-06-21 13:00:00 ------- Test:  2016-06-21 14:00:00  /  2016-08-26 02:00:00\n",
            "Train:  2015-01-04 00:00:00  /  2016-08-26 02:00:00 ------- Test:  2016-08-26 03:00:00  /  2016-10-31 07:00:00\n",
            "Train:  2015-01-04 00:00:00  /  2016-10-31 07:00:00 ------- Test:  2016-10-31 08:00:00  /  2017-01-03 23:00:00\n",
            "Mean of scores:  0.9131284756565412\n",
            "Std of scores:  0.029495121748618115\n",
            "[0.8723925431826995, 0.8946696784032689, 0.9258086458081448, 0.9026868994205904, 0.9170813754685954, 0.9223550627072246, 0.9348287074859597, 0.9552222936683155, 0.9471979579014681, 0.8590415925191462]\n"
          ],
          "name": "stdout"
        }
      ]
    },
    {
      "cell_type": "code",
      "metadata": {
        "colab": {
          "base_uri": "https://localhost:8080/"
        },
        "id": "n4K-Lr1pT0xp",
        "outputId": "aac9d9c1-977c-411e-ca26-e491f90b1107"
      },
      "source": [
        "exp7 = experiment(exp_name=\"Decision Tree\", model=DecisionTreeRegressor, params= params4)\n",
        "\n",
        "print(exp7)"
      ],
      "execution_count": 80,
      "outputs": [
        {
          "output_type": "stream",
          "text": [
            "Decision Tree\n",
            "Train:  2015-01-04 00:00:00  /  2015-03-10 00:00:00 ------- Test:  2015-03-10 01:00:00  /  2015-05-13 21:00:00\n",
            "Train:  2015-01-04 00:00:00  /  2015-05-13 21:00:00 ------- Test:  2015-05-13 22:00:00  /  2015-07-17 20:00:00\n",
            "Train:  2015-01-04 00:00:00  /  2015-07-17 20:00:00 ------- Test:  2015-07-17 21:00:00  /  2015-09-21 02:00:00\n",
            "Train:  2015-01-04 00:00:00  /  2015-09-21 02:00:00 ------- Test:  2015-09-21 03:00:00  /  2015-11-25 09:00:00\n",
            "Train:  2015-01-04 00:00:00  /  2015-11-25 09:00:00 ------- Test:  2015-11-25 10:00:00  /  2016-02-12 14:00:00\n",
            "Train:  2015-01-04 00:00:00  /  2016-02-12 14:00:00 ------- Test:  2016-02-12 15:00:00  /  2016-04-17 22:00:00\n",
            "Train:  2015-01-04 00:00:00  /  2016-04-17 22:00:00 ------- Test:  2016-04-17 23:00:00  /  2016-06-21 13:00:00\n",
            "Train:  2015-01-04 00:00:00  /  2016-06-21 13:00:00 ------- Test:  2016-06-21 14:00:00  /  2016-08-26 02:00:00\n",
            "Train:  2015-01-04 00:00:00  /  2016-08-26 02:00:00 ------- Test:  2016-08-26 03:00:00  /  2016-10-31 07:00:00\n",
            "Train:  2015-01-04 00:00:00  /  2016-10-31 07:00:00 ------- Test:  2016-10-31 08:00:00  /  2017-01-03 23:00:00\n",
            "Mean of scores:  0.913108736070798\n",
            "Std of scores:  0.029530148306867985\n",
            "[0.8723529861819781, 0.8946980552110232, 0.9256627451112954, 0.902646006725028, 0.9170813754685954, 0.9223550627072246, 0.9352354496522413, 0.9552213221171466, 0.9469692330045265, 0.8588651245289203]\n"
          ],
          "name": "stdout"
        }
      ]
    },
    {
      "cell_type": "code",
      "metadata": {
        "id": "OHoZKJ4AS_RY"
      },
      "source": [
        "# Try to achieve a better score using different parameters \n",
        "params = {\n",
        "            \"min_samples_split\": 102,\n",
        "            \"max_depth\": 99,\n",
        "            \"min_samples_leaf\": 500,\n",
        "            \"max_leaf_nodes\": 9999\n",
        "            \n",
        "        }\n",
        "\n",
        "# Choose top 2 parameter sets from your trials and compare these two and select the better parameter set    \n",
        "\n",
        "# YOUR CODE HERE"
      ],
      "execution_count": null,
      "outputs": []
    },
    {
      "cell_type": "code",
      "metadata": {
        "id": "WUTM_5ik56Nv"
      },
      "source": [
        "# Try to achieve a better score using different parameters \n",
        "params1 = {\n",
        "            \"min_samples_split\": 2,\n",
        "            \"max_depth\": 99,\n",
        "            \"min_samples_leaf\": 6,\n",
        "            \"max_leaf_nodes\": 9999\n",
        "            \n",
        "        }\n",
        "\n",
        "# Choose top 2 parameter sets from your trials and compare these two and select the better parameter set    \n",
        "\n",
        "# YOUR CODE HERE\n"
      ],
      "execution_count": 75,
      "outputs": []
    },
    {
      "cell_type": "code",
      "metadata": {
        "id": "nw3qAJRnSnPp"
      },
      "source": [
        "# Try to achieve a better score using different parameters \n",
        "params2 = {\n",
        "            \"min_samples_split\": 2,\n",
        "            \"max_depth\": 10,\n",
        "            \"min_samples_leaf\": 6,\n",
        "            \"max_leaf_nodes\": 9999\n",
        "            \n",
        "        }\n",
        "\n",
        "# Choose top 2 parameter sets from your trials and compare these two and select the better parameter set    \n",
        "\n",
        "# YOUR CODE HERE"
      ],
      "execution_count": 77,
      "outputs": []
    },
    {
      "cell_type": "code",
      "metadata": {
        "id": "0p55AkvgSsQE"
      },
      "source": [
        "# Try to achieve a better score using different parameters \n",
        "params3 = {\n",
        "            \"min_samples_split\": 2,\n",
        "            \"max_depth\": 99,\n",
        "            \"min_samples_leaf\": 6,\n",
        "            \"max_leaf_nodes\": 9999\n",
        "            \n",
        "        }\n",
        "\n",
        "# Choose top 2 parameter sets from your trials and compare these two and select the better parameter set    \n",
        "\n",
        "# YOUR CODE HERE"
      ],
      "execution_count": 81,
      "outputs": []
    },
    {
      "cell_type": "code",
      "metadata": {
        "id": "-ltLAuYPSuMh"
      },
      "source": [
        "# Try to achieve a better score using different parameters \n",
        "params4 = {\n",
        "            \"min_samples_split\": 2,\n",
        "            \"max_depth\": 20,\n",
        "            \"min_samples_leaf\": 6,\n",
        "            \"max_leaf_nodes\": 9999\n",
        "            \n",
        "        }\n",
        "\n",
        "# Choose top 2 parameter sets from your trials and compare these two and select the better parameter set    \n",
        "\n",
        "# YOUR CODE HERE"
      ],
      "execution_count": 79,
      "outputs": []
    },
    {
      "cell_type": "code",
      "metadata": {
        "id": "3o7mKC-f56Nw",
        "outputId": "5c025051-e86b-45d7-b5a3-aef911c6a9c6"
      },
      "source": [
        "# give a definition for the above parameters and describe how they effect the training and results\n",
        "\n",
        "# your replies\n"
      ],
      "execution_count": null,
      "outputs": [
        {
          "output_type": "stream",
          "text": [
            "RMSE mean :  373.04282719988794\n",
            "RMSE std  :  73.66461877698802\n"
          ],
          "name": "stdout"
        }
      ]
    },
    {
      "cell_type": "markdown",
      "metadata": {
        "id": "2XHkKpmI56Nx"
      },
      "source": [
        "# Automated hyper parameter search\n"
      ]
    },
    {
      "cell_type": "code",
      "metadata": {
        "id": "t5ZDBVq656Ny"
      },
      "source": [
        "# Select some values for parameter search\n",
        "param_grid = {\n",
        "              \"min_samples_split\": [2, ...],\n",
        "              \"max_depth\": [3, ...],\n",
        "              \"min_samples_leaf\": [2, ...],\n",
        "              \"max_leaf_nodes\": [21, ...]\n",
        "              }\n",
        "\n",
        "# Use RandomizedSearchCV to find best parameters for your model\n",
        "# use DecisionTreeRegressor, MSE and your choice of split \n",
        "\n",
        "# YOUR CODE HERE\n"
      ],
      "execution_count": null,
      "outputs": []
    },
    {
      "cell_type": "code",
      "metadata": {
        "id": "_ANncuIx56Ny",
        "outputId": "05ffb9e6-5c1d-4eae-f274-3acb4d97c993"
      },
      "source": [
        "# Print the best parameters and the best score achieved\n",
        "\n",
        "# YOUR CODE\n"
      ],
      "execution_count": null,
      "outputs": [
        {
          "output_type": "stream",
          "text": [
            "Best Score: -355.50947171052\n",
            "Best parameter values {'min_samples_split': 8, 'min_samples_leaf': 4, 'max_leaf_nodes': 255, 'max_depth': 59}\n"
          ],
          "name": "stdout"
        }
      ]
    },
    {
      "cell_type": "markdown",
      "metadata": {
        "id": "MyjTmlPW56Ny"
      },
      "source": [
        "# Final training with best parameters\n"
      ]
    },
    {
      "cell_type": "code",
      "metadata": {
        "id": "w9cJtbIB56Nz",
        "outputId": "9ded76fa-ad8c-4205-f905-df1f69b3e415"
      },
      "source": [
        "# Now that you have found best parameters, \n",
        "# train a final model using train set and validate it with test and holdout sets\n",
        "\n",
        "# YOUR CODE\n"
      ],
      "execution_count": null,
      "outputs": [
        {
          "output_type": "stream",
          "text": [
            "{'experiment': 'OOT validation', 'MSE': 129490.73138047603, 'MAE': 227.47905159159802, 'RMSE': 359.84820602648006, 'R2': 0.9150091502139106}\n",
            "{'experiment': 'OOT holdout scores', 'MSE': 125398.08871964493, 'MAE': 206.41119712389175, 'RMSE': 354.11592553801495, 'R2': 0.8547154875992349}\n",
            "\n"
          ],
          "name": "stdout"
        }
      ]
    },
    {
      "cell_type": "code",
      "metadata": {
        "id": "lj3BGls856Nz",
        "outputId": "15b810a7-4777-4bb6-8017-99afa8363c30"
      },
      "source": [
        "# Print number of nodes and max depth of your tree model\n",
        "\n",
        "# YOUR CODE\n"
      ],
      "execution_count": null,
      "outputs": [
        {
          "output_type": "stream",
          "text": [
            "node count :  509\n",
            "depth :  14\n"
          ],
          "name": "stdout"
        }
      ]
    },
    {
      "cell_type": "code",
      "metadata": {
        "id": "imM4r6DM56N0",
        "outputId": "a40ef8df-ee91-42f4-9f54-7aae0f652f46"
      },
      "source": [
        "# Use a bar plot to visualize feature importances of model\n",
        "\n",
        "# YOUR CODE\n"
      ],
      "execution_count": null,
      "outputs": [
        {
          "output_type": "display_data",
          "data": {
            "image/png": "[encoded data removed]",
            "text/plain": [
              "<Figure size 576x432 with 1 Axes>"
            ]
          },
          "metadata": {
            "tags": [],
            "needs_background": "light"
          }
        }
      ]
    },
    {
      "cell_type": "code",
      "metadata": {
        "id": "5hrKVNKY56N2",
        "outputId": "17b444d1-888e-4ed6-e7dd-e90103991355"
      },
      "source": [
        "# Use a scatter to plot actual vs predicted values\n",
        "\n",
        "# YOUR CODE\n"
      ],
      "execution_count": null,
      "outputs": [
        {
          "output_type": "display_data",
          "data": {
            "image/png": "[encoded data removed]",
            "text/plain": [
              "<Figure size 576x576 with 1 Axes>"
            ]
          },
          "metadata": {
            "tags": [],
            "needs_background": "light"
          }
        }
      ]
    },
    {
      "cell_type": "code",
      "metadata": {
        "id": "9ln-br5y56N4",
        "outputId": "b5de5ed1-64f3-470b-f343-a444485cfb92"
      },
      "source": [
        "# Visualize residual vs fitted value"
      ],
      "execution_count": null,
      "outputs": [
        {
          "output_type": "display_data",
          "data": {
            "image/png": "[encoded data removed]",
            "text/plain": [
              "<Figure size 1080x360 with 1 Axes>"
            ]
          },
          "metadata": {
            "tags": [],
            "needs_background": "light"
          }
        }
      ]
    },
    {
      "cell_type": "code",
      "metadata": {
        "id": "D7aH-YXC56N4"
      },
      "source": [
        "# Compare decision tree test results with linear regression test results. Which one performed better? Why?\n",
        "\n",
        "# Your replies\n"
      ],
      "execution_count": null,
      "outputs": []
    },
    {
      "cell_type": "markdown",
      "metadata": {
        "id": "2FscwIks56N4"
      },
      "source": [
        "# Part 4  LightGBM Gradient boosted decision tree regressor\n"
      ]
    },
    {
      "cell_type": "code",
      "metadata": {
        "id": "_GP9wFtI56N4"
      },
      "source": [
        "# Do the same steps above with LightGBM regressor"
      ],
      "execution_count": null,
      "outputs": []
    },
    {
      "cell_type": "code",
      "metadata": {
        "id": "zRMvwtO456N4"
      },
      "source": [
        "# Model tuning\n",
        "\n",
        "# Automated hyper parameter search\n",
        "\n",
        "# Train final model\n",
        "\n",
        "# Validate and visualize model\n",
        "\n"
      ],
      "execution_count": null,
      "outputs": []
    },
    {
      "cell_type": "code",
      "metadata": {
        "id": "Bh5Erp7F56N5"
      },
      "source": [
        "# Compare boosted tree with previous two estimators and comment on results\n",
        "\n",
        "# your comments\n"
      ],
      "execution_count": null,
      "outputs": []
    }
  ]
}